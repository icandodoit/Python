{
 "cells": [
  {
   "cell_type": "markdown",
   "metadata": {},
   "source": [
    "# 데이터분석을 위한 파이썬 철저 입문 (2019, 최은석)"
   ]
  },
  {
   "cell_type": "markdown",
   "metadata": {},
   "source": [
    "# <span style=\"color:blue\"> <U> 객체와 클래스 </U> </span>\n",
    "\n",
    "<br>\n"
   ]
  },
  {
   "cell_type": "markdown",
   "metadata": {},
   "source": [
    "# <span style=\"color:blue\"> <U> 클래스 선언과 객체 생성 </U> </span>\n",
    "\n",
    "<br>\n",
    "\n",
    "\n",
    "### 객체 (object)\n",
    "\n",
    "속성 (상태, 특징)과 행위 (행동, 동작, 기능)로 구성된 대상\n",
    "\n",
    "객체는 변수와 함수의 묶음\n",
    "\n",
    "객체의 특징인 속성은 변수로, 객체가 할 수 있는 일인 행동은 함수로 구현함\n",
    "\n",
    "객체의 속성을 규정한 변수에 무슨 값을 할당하느냐에 따라 객체의 속성이 달라짐\n",
    "\n",
    "객체지향 프로그래밍 (object-oriented programming): 객체를 만들고 이용할 수 있는 기능을 제공하는 프로그래밍\n",
    "\n",
    "**예** (1) 객체: 사람\n",
    "\n",
    "             변수: 이름, 성별, 키, 몸무게 같은 속성\n",
    "             함수: 걷거나 뛰거나 하는 행동\n",
    "    \n",
    "   (2) 객체: 자전거\n",
    "           \n",
    "            변수: 바퀴의 크기 (wheel_size), 색깔 (color)\n",
    "            함수: 전진 (이동) (move), 방향 전환 (좌/우회전) (turn), 정지 (stop)\n",
    "\n"
   ]
  },
  {
   "cell_type": "markdown",
   "metadata": {},
   "source": [
    "### 클래스 선언\n",
    "\n",
    "객체를 만들려면 먼저 클래스를 선언해야 함\n",
    "\n",
    "클래스는 객체의 공통된 속성과 행위를 변수와 함수로 정의한 것임\n",
    "\n",
    "클래스는 객체를 만들기 위한 기본 틀이고 객체는 기본 틀을 바탕으로 만들어진 결과임\n",
    "\n",
    "객체는 클래스에서 생성되므로 객체를 클래스의 인스턴스 (instance)라고 함\n",
    "\n",
    "<br>\n",
    "\n",
    "**비유**\n",
    "\n",
    "클래스: 붕어빵을 만드는 틀\n",
    "\n",
    "객체: 틀에 만들어진 붕어빵\n",
    "\n",
    "붕어빵을 만드는 틀은 같으나 붕어빵 안에 무엇이 들어갔느냐에 따라 다른 붕어빵이 된다.\n",
    "\n",
    "객체의 속성을 규정한 변수에 무슨 값을 할당하느냐에 따라 객체의 속성이 달라짐\n",
    "\n",
    "<br>\n",
    "\n",
    "**참고**\n",
    "\n",
    "붕어빵 종류: 팥, 슈크림, 고구마, 피자, 매콤이, 초코, 김치, 야채, 아이스크림, 토스트\n",
    "\n",
    "https://ko.wikipedia.org/wiki/%EB%B6%95%EC%96%B4%EB%B9%B5"
   ]
  },
  {
   "cell_type": "markdown",
   "metadata": {},
   "source": [
    "### 클래스 선언을 위한 기본 구조\n",
    "\n",
    "```\n",
    "class 클래스명():\n",
    "      [변수1]         # 클래스 변수\n",
    "      [변수2] \n",
    "      ...\n",
    "      def 함수1(self[, 인자1, 인자2, ..., 인자n]):         # 클래스 함수\n",
    "          <코드 블록>\n",
    "          ...\n",
    "      def 함수2(self[, 인자1, 인자2, ..., 인자n]):        \n",
    "          <코드 블록>\n",
    "          ...\n",
    "```          \n",
    "\n",
    "<br>\n",
    "\n",
    "* 클래스를 선언할 때 class 키워드 다음에 클래스명, 소괄호, 콜론 (:)을 순서대로 입력함\n",
    "* 클래스명 (클래스 이름)은 보통 로마자 대문자로 시작하며 여러 단어가 연결된 경우 가독성을 위하여 대문자로 시작하는 단어를 연결하여 클래스 이름을 작성함\n",
    "* 클래스 내에서 변수를 선언하고 `def 함수():` 형태로 함수를 작성함. 이 때 클래스명 다음 줄에 오는 모든 코드는 필히 들여쓰기를 해야 함\n",
    "* 클래스에서 정의한 함수의 첫 번째 인자는 self임. 여기서 self는 객체 생성 후에 자신을 참조하는 데 사용됨\n",
    "* 대광호 ([]) 안에 있는 인자는 필요한 만큼 사용할 수 있으며, 필요 없으면 생략할 수 있음"
   ]
  },
  {
   "cell_type": "markdown",
   "metadata": {},
   "source": [
    "### 객체 생성 및 활용\n",
    "\n",
    "객체: 자전거\n",
    "           \n",
    "            변수 (자전거의 속성): 바퀴의 크기 (wheel_size), 색깔 (color)\n",
    "            함수 (자전거의 동작): 전진 (이동) (move), 방향 전환 (좌/우회전) (turn), 정지 (stop)"
   ]
  },
  {
   "cell_type": "markdown",
   "metadata": {},
   "source": [
    "**클래스 선언**"
   ]
  },
  {
   "cell_type": "code",
   "execution_count": 4,
   "metadata": {},
   "outputs": [],
   "source": [
    "# 클래스명만 있고 변수나 함수가 없는 클래스\n",
    "\n",
    "class Bicycle(): # 클래스 선언\n",
    "    pass"
   ]
  },
  {
   "cell_type": "markdown",
   "metadata": {},
   "source": [
    "**선언된 클래스로부터 클래스의 인스턴스인 객체를 생성하는 방법**\n",
    "\n",
    "```\n",
    "객체명 = 클래스명()\n",
    "```"
   ]
  },
  {
   "cell_type": "code",
   "execution_count": 5,
   "metadata": {},
   "outputs": [],
   "source": [
    "# Bicycle 클래스의 객체 생성\n",
    "# my_bicycle 객체는 Bicycle 클래스의 인스턴스임\n",
    "\n",
    "my_bicycle = Bicycle()"
   ]
  },
  {
   "cell_type": "code",
   "execution_count": 6,
   "metadata": {},
   "outputs": [
    {
     "data": {
      "text/plain": [
       "<__main__.Bicycle at 0x1e752089dc8>"
      ]
     },
     "execution_count": 6,
     "metadata": {},
     "output_type": "execute_result"
    }
   ],
   "source": [
    "# 객체를 실행하면 객체의 클래스와 객체를 생성할 때 할당받은 메모리의 주솟값을 출력함\n",
    "# 출력 결과에서 my_bicycle 객체의 클래스는 Bicycle임을 확인할 수 있음\n",
    "# at 다음의 16진수 숫자는 생성된 객체의 메모리 주소임\n",
    "\n",
    "my_bicycle"
   ]
  },
  {
   "cell_type": "code",
   "execution_count": 9,
   "metadata": {},
   "outputs": [],
   "source": [
    "# my_bicycle 객체에 속성값을 설정함\n",
    "\n",
    "my_bicycle.wheel_size = 26\n",
    "my_bicycle.color = 'black'"
   ]
  },
  {
   "cell_type": "markdown",
   "metadata": {},
   "source": [
    "**객체의 변수에 접근하여 객체의 속성을 가져오는 방법**\n",
    "\n",
    "```\n",
    "객체명.변수명\n",
    "```"
   ]
  },
  {
   "cell_type": "code",
   "execution_count": 10,
   "metadata": {},
   "outputs": [
    {
     "name": "stdout",
     "output_type": "stream",
     "text": [
      "바퀴 크기: 26\n",
      "색상: black\n"
     ]
    }
   ],
   "source": [
    "# 객체의 속성값을 가져와서 출력함\n",
    "\n",
    "print(\"바퀴 크기:\", my_bicycle.wheel_size)  # 객체의 속성 출력\n",
    "print(\"색상:\", my_bicycle.color)   "
   ]
  },
  {
   "cell_type": "markdown",
   "metadata": {},
   "source": [
    "**Bicycle 클래스에 함수를 추가함**"
   ]
  },
  {
   "cell_type": "code",
   "execution_count": 13,
   "metadata": {},
   "outputs": [],
   "source": [
    "class Bicycle():\n",
    "    \n",
    "    def move(self, speed):\n",
    "        print(\"자전거: 시속 {0}킬로미터로 전진\".format(speed))\n",
    "        \n",
    "    def turn(self, direction):\n",
    "        print(\"자전거: {0}회전\".format(direction))\n",
    "        \n",
    "    def stop(self):\n",
    "        print(\"자전거({0}, {1}): 정지 \".format(self.wheel_size, self.color))"
   ]
  },
  {
   "cell_type": "markdown",
   "metadata": {},
   "source": [
    "**객체의 메서드 (method)를 호출하는 방법**\n",
    "\n",
    "```\n",
    "객체명.메서드명([인자1, 인자2, ..., 인자n])\n",
    "```\n",
    "\n",
    "* 메서드명은 클래스에서 정의한 함수명임\n",
    "* 객체에서 메서드를 호출할 때 인자의 수는 클래스에서 정의한 함수의 인자의 수와 같아야 함. 단, 클래스를 선언할 때 추가했던 함수의 인자 self는 필요하지 않음\n",
    "* 클래스에서 self만 인자로 갖는 함수를 객체에서 이용시 소괄호 안에 인자를 지정하지 않음"
   ]
  },
  {
   "cell_type": "code",
   "execution_count": 14,
   "metadata": {},
   "outputs": [
    {
     "name": "stdout",
     "output_type": "stream",
     "text": [
      "자전거: 시속 30킬로미터로 전진\n",
      "자전거: 좌회전\n",
      "자전거(26, black): 정지 \n"
     ]
    }
   ],
   "source": [
    "# Bicycle 클래스에서 객체를 생성한 후 속성을 설정하고 객체의 메서드를 호출하는 방법\n",
    "\n",
    "my_bicycle = Bicycle() # Bicycle 클래스의 인스턴스인 my_bicycle 객체 생성\n",
    "\n",
    "my_bicycle.wheel_size = 26 # 객체의 속성 설정\n",
    "my_bicycle.color = 'black' \n",
    "\n",
    "my_bicycle.move(30)  # 객체의 메서드 호출\n",
    "my_bicycle.turn('좌')\n",
    "my_bicycle.stop()"
   ]
  },
  {
   "cell_type": "code",
   "execution_count": 15,
   "metadata": {},
   "outputs": [
    {
     "name": "stdout",
     "output_type": "stream",
     "text": [
      "자전거: 시속 20킬로미터로 전진\n",
      "자전거: 좌회전\n",
      "자전거(27, red): 정지 \n"
     ]
    }
   ],
   "source": [
    "# 객체 1\n",
    "\n",
    "bicycle1 = Bicycle() # Bicycle 클래스의 인스턴스인 bicycle1 객체 생성\n",
    "\n",
    "bicycle1.wheel_size = 27 # 객체의 속성 설정\n",
    "bicycle1.color = 'red' \n",
    "\n",
    "bicycle1.move(20)\n",
    "bicycle1.turn('좌')\n",
    "bicycle1.stop()"
   ]
  },
  {
   "cell_type": "code",
   "execution_count": 16,
   "metadata": {
    "scrolled": true
   },
   "outputs": [
    {
     "name": "stdout",
     "output_type": "stream",
     "text": [
      "자전거: 시속 15킬로미터로 전진\n",
      "자전거: 우회전\n",
      "자전거(24, blue): 정지 \n"
     ]
    }
   ],
   "source": [
    "# 객체 2\n",
    "\n",
    "bicycle2 = Bicycle() # Bicycle 클래스의 인스턴스인 bicycle2 객체 생성\n",
    "\n",
    "bicycle2.wheel_size = 24 # 객체의 속성 설정\n",
    "bicycle2.color = 'blue' \n",
    "\n",
    "bicycle2.move(15)\n",
    "bicycle2.turn('우')\n",
    "bicycle2.stop()"
   ]
  },
  {
   "cell_type": "markdown",
   "metadata": {},
   "source": [
    "### 객체 초기화\n",
    "\n",
    "* 클래스를 선언할 때 초기화 함수 `__init__()`를 사용하면 객체를 생성하는 것과 동시에 속성값을 지정할 수 있음\n",
    "*  `__init__()`함수는 클래스의 인스턴스가 생성될 때 즉, 객체가 생성될 때 자동으로 실행되기 때문에 `__init__()`함수에 초기화하려는 인자를 정의하면 객체를 생성할 때 속성을 초기화할 수 있음"
   ]
  },
  {
   "cell_type": "code",
   "execution_count": 17,
   "metadata": {},
   "outputs": [],
   "source": [
    "# Bicycle 클래스에 __init__()함수를 추가함\n",
    "\n",
    "class Bicycle():    \n",
    "    \n",
    "    def __init__(self, wheel_size, color):\n",
    "        self.wheel_size = wheel_size\n",
    "        self.color = color\n",
    "        \n",
    "    def move(self, speed):\n",
    "        print(\"자전거: 시속 {0}킬로미터로 전진\".format(speed))\n",
    "        \n",
    "    def turn(self, direction):\n",
    "        print(\"자전거: {0}회전\".format(direction))\n",
    "        \n",
    "    def stop(self):\n",
    "        print(\"자전거({0}, {1}): 정지 \".format(self.wheel_size, self.color))"
   ]
  },
  {
   "cell_type": "markdown",
   "metadata": {},
   "source": [
    "**`__init__()`함수가 추가된 클래스로부터 클래스의 인스턴스인 객체를 생성하는 방법**\n",
    "\n",
    "```\n",
    "객체명 = 클래스명(인자1, 이자2, ..., 인자n)\n",
    "```"
   ]
  },
  {
   "cell_type": "code",
   "execution_count": 18,
   "metadata": {},
   "outputs": [
    {
     "name": "stdout",
     "output_type": "stream",
     "text": [
      "자전거: 시속 30킬로미터로 전진\n",
      "자전거: 좌회전\n",
      "자전거(26, black): 정지 \n"
     ]
    }
   ],
   "source": [
    "# __init__()함수의 인자 입력시 self는 제외함\n",
    "\n",
    "my_bicycle = Bicycle(26, 'black') # 객체 생성과 동시에 속성값을 지정.\n",
    "\n",
    "my_bicycle.move(30)  # 객체 메서드 호출\n",
    "my_bicycle.turn('좌')\n",
    "my_bicycle.stop()"
   ]
  },
  {
   "cell_type": "markdown",
   "metadata": {},
   "source": [
    "# <span style=\"color:blue\"> <U> 클래스를 구성하는 변수와 함수 </U> </span>"
   ]
  },
  {
   "cell_type": "markdown",
   "metadata": {},
   "source": [
    "### 클래스에서 사용하는 변수\n",
    "\n",
    "* 클래스 변수 (class variable): 클래스 내에 있지만 함수 밖에서 `변수명 = 데이터` 형식으로 정의한 함수. 클래스에서 생성한 모든 객체가 공통으로 사용할 수 있음. 클래스 변수는 `클래스명.변수명` 형식으로 접근할 수 있음. 인스턴스 변수가 정의되지 않고 클래스 변수만 정의돼 있을 때 객체를 생성한후 `객체명.변수명` 형식으로 접근하면 클래스 변수에 접근함\n",
    "* 인스턴스 변수 (instance variable): 클래스 내의 함수 안에서 `self.변수명 = 데이터` 형식으로 정의한 함수. 클래스 내의 모든 함수에서 `self.변수명` 형식으로 접근할 수 있음. 인스턴스 변수는 각 인스턴스 (객체)에서 개별적으로 관리하며 객체를 생성한 후 `객체명.변수명` 형식으로 접근할 수 있음"
   ]
  },
  {
   "cell_type": "code",
   "execution_count": 19,
   "metadata": {},
   "outputs": [],
   "source": [
    "# 클래스 변수와 인스턴스 변수를 사용한 자동차 클래스\n",
    "\n",
    "# 클래스 변수: instance_count\n",
    "# 인스턴스 변수: self.size, self.color\n",
    "\n",
    "class Car():\n",
    "    instance_count = 0 # 클래스 변수 생성 및 초기화\n",
    "\n",
    "    def __init__(self, size, color):\n",
    "        self.size = size    # 인스턴스 변수 생성 및 초기화\n",
    "        self.color = color  # 인스턴스 변수 생성 및 초기화\n",
    "        Car.instance_count = Car.instance_count + 1 # 클래스 변수 이용\n",
    "        print(\"자동차 객체의 수: {0}\".format(Car.instance_count))\n",
    "        \n",
    "    def move(self):\n",
    "        print(\"자동차({0} & {1})가 움직입니다.\".format(self.size, self.color))"
   ]
  },
  {
   "cell_type": "code",
   "execution_count": 20,
   "metadata": {},
   "outputs": [
    {
     "name": "stdout",
     "output_type": "stream",
     "text": [
      "자동차 객체의 수: 1\n",
      "자동차 객체의 수: 2\n"
     ]
    }
   ],
   "source": [
    "# 두 개의 객체 car1과 car2를 생성함\n",
    "\n",
    "car1 = Car('small', 'white')\n",
    "car2 = Car('big', 'black')"
   ]
  },
  {
   "cell_type": "code",
   "execution_count": 21,
   "metadata": {},
   "outputs": [
    {
     "name": "stdout",
     "output_type": "stream",
     "text": [
      "Car 클래스의 총 인스턴스 개수:2\n"
     ]
    }
   ],
   "source": [
    "# 클래스 변수 instance_count를 '클래스명.변수명' 형식으로 호출함\n",
    "\n",
    "print(\"Car 클래스의 총 인스턴스 개수:{}\".format(Car.instance_count)) "
   ]
  },
  {
   "cell_type": "code",
   "execution_count": 22,
   "metadata": {},
   "outputs": [
    {
     "name": "stdout",
     "output_type": "stream",
     "text": [
      "Car 클래스의 총 인스턴스 개수:2\n",
      "Car 클래스의 총 인스턴스 개수:2\n"
     ]
    }
   ],
   "source": [
    "# 클래스 변수 instance_count를 '객체명.변수명' 형식으로 호출함\n",
    "# 모든 객체에서 클래스 변수가 공통으로 사용됨\n",
    "\n",
    "print(\"Car 클래스의 총 인스턴스 개수:{}\".format(car1.instance_count))\n",
    "print(\"Car 클래스의 총 인스턴스 개수:{}\".format(car2.instance_count))"
   ]
  },
  {
   "cell_type": "code",
   "execution_count": 24,
   "metadata": {},
   "outputs": [
    {
     "name": "stdout",
     "output_type": "stream",
     "text": [
      "자동차(small & white)가 움직입니다.\n",
      "자동차(big & black)가 움직입니다.\n"
     ]
    }
   ],
   "source": [
    "# 인스턴스 변수 self.size와 self.color가 어떻게 작동하는 지를 살피기 위한 객체의 메서드 실행 \n",
    "# 인스턴스 변수 self.size와 self.color는 각 개체에서 별도로 관리됨\n",
    "\n",
    "car1.move()\n",
    "car2.move()"
   ]
  },
  {
   "cell_type": "code",
   "execution_count": 28,
   "metadata": {},
   "outputs": [],
   "source": [
    "# 클래스 변수 이름과 인스턴스 변수 이름이 같은 경우\n",
    "# 변수 이름은 같지만 이 둘은 별개로 동작함\n",
    "\n",
    "class Car2():\n",
    "    count = 0; # 클래스 변수 생성 및 초기화\n",
    "\n",
    "    def __init__(self, size, num):\n",
    "        self.size = size    # 인스턴스 변수 생성 및 초기화\n",
    "        self.count = num  # 인스턴스 변수 생성 및 초기화\n",
    "        Car2.count = Car2.count + 1 # 클래스 변수 이용\n",
    "        print(\"자동차 객체의 수: Car2.count = {0}\".format(Car2.count))\n",
    "        print(\"인스턴스 변수 초기화: self.count = {0}\".format(self.count))\n",
    "        \n",
    "    def move(self):\n",
    "        print(\"자동차({0} & {1})가 움직입니다.\".format(self.size, self.count))"
   ]
  },
  {
   "cell_type": "code",
   "execution_count": 26,
   "metadata": {
    "scrolled": true
   },
   "outputs": [
    {
     "name": "stdout",
     "output_type": "stream",
     "text": [
      "자동차 객체의 수: Car2.count = 1\n",
      "인스턴스 변수 초기화: self.count = 20\n",
      "자동차 객체의 수: Car2.count = 2\n",
      "인스턴스 변수 초기화: self.count = 30\n"
     ]
    }
   ],
   "source": [
    "car1 = Car2(\"big\", 20)\n",
    "car2 = Car2(\"small\", 30)"
   ]
  },
  {
   "cell_type": "code",
   "execution_count": 29,
   "metadata": {},
   "outputs": [
    {
     "name": "stdout",
     "output_type": "stream",
     "text": [
      "자동차(big & 20)가 움직입니다.\n",
      "자동차(small & 30)가 움직입니다.\n"
     ]
    }
   ],
   "source": [
    "car1.move()\n",
    "car2.move()"
   ]
  },
  {
   "cell_type": "markdown",
   "metadata": {},
   "source": [
    "### 클래스에서 사용하는 함수\n",
    "\n",
    "1. **인스턴스 메서드 (instance method)** \n",
    "\n",
    "각 개체에서 개별적으로 동작하는 함수. 함수를 정의할 때 첫 인자로 self가 필요함 \n",
    "\n",
    "self는 클래스의 인스턴스 (객체) 자신을 가리킴. self를 이용하여 인스턴스 변수를 만듬 \n",
    "\n",
    "인스턴스 메서드 안에서는 `self.함수명()` 형식으로 클래스 내의 다른 함수를 호출할 수 있음\n",
    "\n",
    "2. **정적 메서드 (static method)** \n",
    "\n",
    "클래스와 관련이 있어서 클래스 안에 두지는 하지만 클래스나 클래스의 인스턴스 (객체)와는 무관하게 독립적으로 동작하는 함수 \n",
    "\n",
    "함수를 정의할 때 인자로 self를 사용하지 않으며 정적 메서드 안에서는 인스턴스 메서드나 인스턴스 변수에 접근할 수 없음\n",
    "\n",
    "함수 앞에 데코레이터 (decorator)인 @staticmethod를 선언하여 정적 메서드임을 표시함\n",
    "\n",
    "날짜 및 시간 정보 제공, 환율 정보 제공, 단위 변환과 같이 객체와 관계없이 독립적으로 동작하는 함수를 만들 때 주로 사용함\n",
    "\n",
    "3. **클래스 메서드 (class method)**\n",
    "\n",
    "클래스 변수를 사용하기 위한 함수\n",
    "\n",
    "클래스 메서드는 함수를 정의할 때 첫 번째 인다로 클래스를 넘겨받는 cls가 필요하며 이를 이용하여 클래스 변수에 접근함\n",
    "\n",
    "함수 앞에 데코레이터인 @classmethod를 지정하여야 함\n",
    "\n",
    "생성된 객체의 개수를 반환하는 것과 같은, 클래스 전체에서 관리해야할 기능이 필요할 때 주로 사용함"
   ]
  },
  {
   "cell_type": "markdown",
   "metadata": {},
   "source": [
    "####  * 인스턴스 메서드"
   ]
  },
  {
   "cell_type": "markdown",
   "metadata": {},
   "source": [
    "**인스턴스 메서드 구조**\n",
    "\n",
    "```\n",
    "class 클래스명():\n",
    "      def 함수명(self[, 인자1, 인자2, ..., 인자n]):        \n",
    "          self.변수명1 = 인자1\n",
    "          self.변수명2 = 인자2\n",
    "          self.변수명3 = 인자3\n",
    "          ...\n",
    "          <코드 블록>\n",
    "```      "
   ]
  },
  {
   "cell_type": "code",
   "execution_count": 31,
   "metadata": {},
   "outputs": [],
   "source": [
    "# Car 클래스 선언\n",
    "\n",
    "class Car():\n",
    "    instance_count = 0 # 클래스 변수 생성 및 초기화\n",
    "    \n",
    "    # 초기화 함수(인스턴스 메서드)\n",
    "    def __init__(self, size, color):\n",
    "        self.size = size    # 인스턴스 변수 생성 및 초기화\n",
    "        self.color = color  # 인스턴스 변수 생성 및 초기화\n",
    "        Car.instance_count = Car.instance_count + 1 # 클래스 변수 이용\n",
    "        print(\"자동차 객체의 수: {0}\".format(Car.instance_count))  \n",
    "       \n",
    "    # 인스턴스 메서드\n",
    "    def move(self, speed):\n",
    "        self.speed = speed  # 인스턴스 변수 생성    \n",
    "        print(\"자동차({0} & {1})가 \".format(self.size, self.color), end='')\n",
    "        print(\"시속 {0}킬로미터로 전진\".format(self.speed))\n",
    "        \n",
    "    # 인스턴스 메서드\n",
    "    def auto_cruise(self):\n",
    "        print(\"자율 주행 모드\")\n",
    "        self.move(self.speed) # move() 함수의 인자로 인스턴스 변수를 입력"
   ]
  },
  {
   "cell_type": "markdown",
   "metadata": {},
   "source": [
    "**인스턴스 메서드 호출**\n",
    "\n",
    "```\n",
    "객체명 = 클래스명()\n",
    "객체명.메서드명([인자1, 인자2, ..., 인자n])\n",
    "```"
   ]
  },
  {
   "cell_type": "code",
   "execution_count": 39,
   "metadata": {},
   "outputs": [
    {
     "name": "stdout",
     "output_type": "stream",
     "text": [
      "자동차 객체의 수: 7\n",
      "자동차 객체의 수: 8\n"
     ]
    }
   ],
   "source": [
    "car1 = Car(\"small\", \"red\") # 객체 생성 (car1)\n",
    "car2 = Car(\"big\", \"green\") # 객체 생성 (car2)"
   ]
  },
  {
   "cell_type": "code",
   "execution_count": 40,
   "metadata": {},
   "outputs": [
    {
     "name": "stdout",
     "output_type": "stream",
     "text": [
      "자동차(small & red)가 시속 80킬로미터로 전진\n",
      "자동차(big & green)가 시속 100킬로미터로 전진\n"
     ]
    }
   ],
   "source": [
    "car1.move(80) #객체(car1)의 move() 메서드 호출\n",
    "car2.move(100) #객체(car2)의 move() 메서드 호출"
   ]
  },
  {
   "cell_type": "code",
   "execution_count": 41,
   "metadata": {},
   "outputs": [
    {
     "name": "stdout",
     "output_type": "stream",
     "text": [
      "자율 주행 모드\n",
      "자동차(small & red)가 시속 80킬로미터로 전진\n",
      "자율 주행 모드\n",
      "자동차(big & green)가 시속 100킬로미터로 전진\n"
     ]
    }
   ],
   "source": [
    "car1.auto_cruise() #객체(car1)의 auto_cruise() 메서드 호출\n",
    "car2.auto_cruise() #객체(car2)의 auto_cruise() 메서드 호출"
   ]
  },
  {
   "cell_type": "markdown",
   "metadata": {},
   "source": [
    "move() 메서드보다 auto_cruise() 메서드를 먼저 호출하면 에러가 남!"
   ]
  },
  {
   "cell_type": "code",
   "execution_count": 42,
   "metadata": {},
   "outputs": [
    {
     "name": "stdout",
     "output_type": "stream",
     "text": [
      "자동차 객체의 수: 9\n",
      "자동차 객체의 수: 10\n"
     ]
    }
   ],
   "source": [
    "car1 = Car(\"small\", \"red\") # 객체 생성 (car1)\n",
    "car2 = Car(\"big\", \"green\") # 객체 생성 (car2)"
   ]
  },
  {
   "cell_type": "code",
   "execution_count": 43,
   "metadata": {},
   "outputs": [
    {
     "name": "stdout",
     "output_type": "stream",
     "text": [
      "자율 주행 모드\n"
     ]
    },
    {
     "ename": "AttributeError",
     "evalue": "'Car' object has no attribute 'speed'",
     "output_type": "error",
     "traceback": [
      "\u001b[1;31m---------------------------------------------------------------------------\u001b[0m",
      "\u001b[1;31mAttributeError\u001b[0m                            Traceback (most recent call last)",
      "\u001b[1;32m<ipython-input-43-bf53e64c94a6>\u001b[0m in \u001b[0;36m<module>\u001b[1;34m\u001b[0m\n\u001b[1;32m----> 1\u001b[1;33m \u001b[0mcar1\u001b[0m\u001b[1;33m.\u001b[0m\u001b[0mauto_cruise\u001b[0m\u001b[1;33m(\u001b[0m\u001b[1;33m)\u001b[0m \u001b[1;31m#객체(car1)의 auto_cruise() 메서드 호출\u001b[0m\u001b[1;33m\u001b[0m\u001b[1;33m\u001b[0m\u001b[0m\n\u001b[0m\u001b[0;32m      2\u001b[0m \u001b[0mcar2\u001b[0m\u001b[1;33m.\u001b[0m\u001b[0mauto_cruise\u001b[0m\u001b[1;33m(\u001b[0m\u001b[1;33m)\u001b[0m \u001b[1;31m#객체(car2)의 auto_cruise() 메서드 호출\u001b[0m\u001b[1;33m\u001b[0m\u001b[1;33m\u001b[0m\u001b[0m\n",
      "\u001b[1;32m<ipython-input-31-74625932cf56>\u001b[0m in \u001b[0;36mauto_cruise\u001b[1;34m(self)\u001b[0m\n\u001b[0;32m     20\u001b[0m     \u001b[1;32mdef\u001b[0m \u001b[0mauto_cruise\u001b[0m\u001b[1;33m(\u001b[0m\u001b[0mself\u001b[0m\u001b[1;33m)\u001b[0m\u001b[1;33m:\u001b[0m\u001b[1;33m\u001b[0m\u001b[1;33m\u001b[0m\u001b[0m\n\u001b[0;32m     21\u001b[0m         \u001b[0mprint\u001b[0m\u001b[1;33m(\u001b[0m\u001b[1;34m\"자율 주행 모드\"\u001b[0m\u001b[1;33m)\u001b[0m\u001b[1;33m\u001b[0m\u001b[1;33m\u001b[0m\u001b[0m\n\u001b[1;32m---> 22\u001b[1;33m         \u001b[0mself\u001b[0m\u001b[1;33m.\u001b[0m\u001b[0mmove\u001b[0m\u001b[1;33m(\u001b[0m\u001b[0mself\u001b[0m\u001b[1;33m.\u001b[0m\u001b[0mspeed\u001b[0m\u001b[1;33m)\u001b[0m \u001b[1;31m# move() 함수의 인자로 인스턴스 변수를 입력\u001b[0m\u001b[1;33m\u001b[0m\u001b[1;33m\u001b[0m\u001b[0m\n\u001b[0m",
      "\u001b[1;31mAttributeError\u001b[0m: 'Car' object has no attribute 'speed'"
     ]
    }
   ],
   "source": [
    "car1.auto_cruise() #객체(car1)의 auto_cruise() 메서드 호출\n",
    "car2.auto_cruise() #객체(car2)의 auto_cruise() 메서드 호출"
   ]
  },
  {
   "cell_type": "code",
   "execution_count": 44,
   "metadata": {},
   "outputs": [
    {
     "name": "stdout",
     "output_type": "stream",
     "text": [
      "자동차(small & red)가 시속 80킬로미터로 전진\n",
      "자동차(big & green)가 시속 100킬로미터로 전진\n"
     ]
    }
   ],
   "source": [
    "car1.move(80) #객체(car1)의 move() 메서드 호출\n",
    "car2.move(100) #객체(car2)의 move() 메서드 호출"
   ]
  },
  {
   "cell_type": "code",
   "execution_count": 45,
   "metadata": {},
   "outputs": [],
   "source": [
    "# Car 클래스 선언\n",
    "\n",
    "class Car():\n",
    "    instance_count = 0 # 클래스 변수 생성 및 초기화\n",
    "    \n",
    "    # 초기화 함수(인스턴스 메서드)\n",
    "    def __init__(self, size, color):\n",
    "        self.size = size    # 인스턴스 변수 생성 및 초기화\n",
    "        self.color = color  # 인스턴스 변수 생성 및 초기화\n",
    "        Car.instance_count = Car.instance_count + 1 # 클래스 변수 이용\n",
    "        print(\"자동차 객체의 수: {0}\".format(Car.instance_count))  \n",
    "       \n",
    "    # 인스턴스 메서드\n",
    "    def move(self, speed):\n",
    "        self.speed = speed  # 인스턴스 변수 생성    \n",
    "        print(\"자동차({0} & {1})가 \".format(self.size, self.color), end='')\n",
    "        print(\"시속 {0}킬로미터로 전진\".format(self.speed))\n",
    "        \n",
    "    # 인스턴스 메서드\n",
    "    def auto_cruise(self, speed):\n",
    "        self.speed = speed  # 인스턴스 변수 생성 \n",
    "        print(\"자율 주행 모드\")\n",
    "        print(\"자동차({0} & {1})가 \".format(self.size, self.color), end='')\n",
    "        print(\"시속 {0}킬로미터로 전진\".format(self.speed))        "
   ]
  },
  {
   "cell_type": "code",
   "execution_count": 46,
   "metadata": {},
   "outputs": [
    {
     "name": "stdout",
     "output_type": "stream",
     "text": [
      "자동차 객체의 수: 1\n",
      "자동차 객체의 수: 2\n"
     ]
    }
   ],
   "source": [
    "car1 = Car(\"small\", \"red\") # 객체 생성 (car1)\n",
    "car2 = Car(\"big\", \"green\") # 객체 생성 (car2)"
   ]
  },
  {
   "cell_type": "code",
   "execution_count": 48,
   "metadata": {},
   "outputs": [
    {
     "name": "stdout",
     "output_type": "stream",
     "text": [
      "자율 주행 모드\n",
      "자동차(small & red)가 시속 80킬로미터로 전진\n",
      "자율 주행 모드\n",
      "자동차(big & green)가 시속 100킬로미터로 전진\n"
     ]
    }
   ],
   "source": [
    "car1.auto_cruise(80) #객체(car1)의 auto_cruise() 메서드 호출\n",
    "car2.auto_cruise(100) #객체(car2)의 auto_cruise() 메서드 호출"
   ]
  },
  {
   "cell_type": "code",
   "execution_count": 49,
   "metadata": {},
   "outputs": [
    {
     "name": "stdout",
     "output_type": "stream",
     "text": [
      "자동차(small & red)가 시속 80킬로미터로 전진\n",
      "자동차(big & green)가 시속 100킬로미터로 전진\n"
     ]
    }
   ],
   "source": [
    "car1.move(80) #객체(car1)의 move() 메서드 호출\n",
    "car2.move(100) #객체(car2)의 move() 메서드 호출"
   ]
  },
  {
   "cell_type": "markdown",
   "metadata": {},
   "source": [
    "#### * 정적 메서드"
   ]
  },
  {
   "cell_type": "markdown",
   "metadata": {},
   "source": [
    "**정적 메서드 구조**\n",
    "\n",
    "```\n",
    "class 클래스명():\n",
    "      @staticmethod\n",
    "      def 함수명([인자1, 인자2, ..., 인자n]):        \n",
    "          <코드 블록>\n",
    "```      "
   ]
  },
  {
   "cell_type": "code",
   "execution_count": 50,
   "metadata": {},
   "outputs": [],
   "source": [
    "# Car 클래스 선언\n",
    "class Car():\n",
    "    instance_count = 0 # 클래스 변수 생성 및 초기화\n",
    "    \n",
    "    # 초기화 함수(인스턴스 메서드)\n",
    "    def __init__(self, size, color):\n",
    "        self.size = size    # 인스턴스 변수 생성 및 초기화\n",
    "        self.color = color  # 인스턴스 변수 생성 및 초기화\n",
    "        Car.instance_count = Car.instance_count + 1 # 클래스 변수 이용\n",
    "        print(\"자동차 객체의 수: {0}\".format(Car.instance_count))  \n",
    "       \n",
    "    # 인스턴스 메서드\n",
    "    def move(self, speed):\n",
    "        self.speed = speed  # 인스턴스 변수 생성    \n",
    "        print(\"자동차({0} & {1})가 \".format(self.size, self.color), end='')\n",
    "        print(\"시속 {0}킬로미터로 전진\".format(self.speed))\n",
    "        \n",
    "    # 인스턴스 메서드\n",
    "    def auto_cruise(self, speed):\n",
    "        self.speed = speed  # 인스턴스 변수 생성 \n",
    "        print(\"자율 주행 모드\")\n",
    "        print(\"자동차({0} & {1})가 \".format(self.size, self.color), end='')\n",
    "        print(\"시속 {0}킬로미터로 전진\".format(self.speed))                \n",
    "\n",
    "    # 정적 메서드\n",
    "    @staticmethod\n",
    "    def check_type(model_code):\n",
    "        if(model_code >= 20):\n",
    "            print(\"이 자동차는 전기차입니다.\")\n",
    "        elif(10 <= model_code < 20):\n",
    "            print(\"이 자동차는 가솔린차입니다.\")\n",
    "        else:\n",
    "            print(\"이 자동차는 디젤차입니다.\")"
   ]
  },
  {
   "cell_type": "markdown",
   "metadata": {},
   "source": [
    "**정적 메서드 호출**\n",
    "\n",
    "객체를 생성한 후 정적 메서드를 호출할 수도 있으나 보통 다음과 같이 객체를 생성하지 않고 클래스명을 사용하여 바로 정적 메서드를 호출함\n",
    "\n",
    "```\n",
    "클래스명.메서드명([인자1, 인자2, ..., 인자n])\n",
    "```"
   ]
  },
  {
   "cell_type": "code",
   "execution_count": 53,
   "metadata": {},
   "outputs": [
    {
     "name": "stdout",
     "output_type": "stream",
     "text": [
      "이 자동차는 전기차입니다.\n",
      "이 자동차는 가솔린차입니다.\n",
      "이 자동차는 디젤차입니다.\n"
     ]
    }
   ],
   "source": [
    "Car.check_type(25)\n",
    "Car.check_type(15)\n",
    "Car.check_type(5)"
   ]
  },
  {
   "cell_type": "markdown",
   "metadata": {},
   "source": [
    "#### * 클래스 메서드"
   ]
  },
  {
   "cell_type": "markdown",
   "metadata": {},
   "source": [
    "**클래스 메서드 구조**\n",
    "\n",
    "```\n",
    "class 클래스명():\n",
    "      @classmethod\n",
    "      def 함수명(cls[, 인자1, 인자2, ..., 인자n]):        \n",
    "          <코드 블록>\n",
    "```      "
   ]
  },
  {
   "cell_type": "code",
   "execution_count": 7,
   "metadata": {},
   "outputs": [],
   "source": [
    "# Car 클래스 선언\n",
    "class Car():\n",
    "    instance_count = 0 # 클래스 변수    \n",
    "  \n",
    "    # 초기화 함수(인스턴스 메서드)\n",
    "    def __init__(self, size, color):\n",
    "        self.size = size    # 인스턴스 변수\n",
    "        self.color = color  # 인스턴스 변수\n",
    "        Car.instance_count = Car.instance_count + 1\n",
    "\n",
    "    # 인스턴스 메서드\n",
    "    def move(self, speed):\n",
    "        self.speed = speed  # 인스턴스 변수 생성    \n",
    "        print(\"자동차({0} & {1})가 \".format(self.size, self.color), end='')\n",
    "        print(\"시속 {0}킬로미터로 전진\".format(self.speed))\n",
    "        \n",
    "    # 인스턴스 메서드\n",
    "    def auto_cruise(self, speed):\n",
    "        self.speed = speed  # 인스턴스 변수 생성 \n",
    "        print(\"자율 주행 모드\")\n",
    "        print(\"자동차({0} & {1})가 \".format(self.size, self.color), end='')\n",
    "        print(\"시속 {0}킬로미터로 전진\".format(self.speed))                \n",
    "\n",
    "    # 정적 메서드\n",
    "    @staticmethod\n",
    "    def check_type(model_code):\n",
    "        if(model_code >= 20):\n",
    "            print(\"이 자동차는 전기차입니다.\")\n",
    "        elif(10 <= model_code < 20):\n",
    "            print(\"이 자동차는 가솔린차입니다.\")\n",
    "        else:\n",
    "            print(\"이 자동차는 디젤차입니다.\")    \n",
    "    \n",
    "    # 클래스 메서드\n",
    "    @classmethod\n",
    "    def count_instance(cls):\n",
    "        print(\"자동차 객체의 개수: {0}\".format(cls.instance_count))"
   ]
  },
  {
   "cell_type": "code",
   "execution_count": 8,
   "metadata": {},
   "outputs": [
    {
     "name": "stdout",
     "output_type": "stream",
     "text": [
      "자동차(big & white)가 시속 100킬로미터로 전진\n",
      "이 자동차는 가솔린차입니다.\n"
     ]
    }
   ],
   "source": [
    "du_car=Car('big','white')\n",
    "du_car.move(100)\n",
    "du_car.check_type(15)"
   ]
  },
  {
   "cell_type": "code",
   "execution_count": 9,
   "metadata": {},
   "outputs": [
    {
     "name": "stdout",
     "output_type": "stream",
     "text": [
      "자동차 객체의 개수: 1\n"
     ]
    }
   ],
   "source": [
    "Car.count_instance()"
   ]
  },
  {
   "cell_type": "markdown",
   "metadata": {},
   "source": [
    "**클래스 메서드 호출**\n",
    "\n",
    "객체를 생성한 후 정적 메서드를 호출할 수도 있으나 보통 다음과 같이 객체를 생성하지 않고 클래스명을 사용하여 바로 클래스 메서드를 호출함\n",
    "\n",
    "```\n",
    "클래스명.메서드명([인자1, 인자2, ..., 인자n])\n",
    "```"
   ]
  },
  {
   "cell_type": "code",
   "execution_count": 59,
   "metadata": {},
   "outputs": [
    {
     "name": "stdout",
     "output_type": "stream",
     "text": [
      "자동차 객체의 개수: 0\n",
      "자동차 객체의 개수: 1\n",
      "자동차 객체의 개수: 2\n",
      "자동차 객체의 개수: 3\n"
     ]
    }
   ],
   "source": [
    "Car.count_instance() # 객체 생성 전에 클래스 메서드 호출\n",
    "\n",
    "car1 = Car(\"small\", \"red\") # 첫 번째 객체 생성\n",
    "Car.count_instance() # 클래스 메서드 호출\n",
    "\n",
    "car2 = Car(\"big\", \"green\") # 두 번째 객체 생성\n",
    "Car.count_instance() # 클래스 메서드 호출\n",
    "\n",
    "car3 = Car(\"medium\", \"blue\") # 두 번째 객체 생성\n",
    "Car.count_instance() # 클래스 메서드 호출"
   ]
  },
  {
   "cell_type": "markdown",
   "metadata": {},
   "source": [
    "# <span style=\"color:blue\"> <U> 객체와 클래스를 사용하는 이유 </U> </span>\n",
    "\n",
    "<br>\n",
    "\n",
    "규모가 큰 프로그램 작성시 많은 클래스와 객체를 사용함\n",
    "\n",
    "(예) 게임의 캐릭터와 같이 유사한 객체가 많은 프로그램을 만들 때 주로 클래스와 객체를 이용하여 코드를 작성함"
   ]
  },
  {
   "cell_type": "markdown",
   "metadata": {},
   "source": [
    "**컴퓨터 게임의 로봇**\n",
    "\n",
    "* 위로만 이동 허락\n",
    "* 로봇의 속성: 이름, 위치\n",
    "* 로봇의 동작: 한 칸 이동"
   ]
  },
  {
   "cell_type": "markdown",
   "metadata": {},
   "source": [
    "**클래스와 객체를 이용하지 않고 코드 작성하기**"
   ]
  },
  {
   "cell_type": "markdown",
   "metadata": {},
   "source": [
    "로봇의 수: 1"
   ]
  },
  {
   "cell_type": "code",
   "execution_count": 60,
   "metadata": {},
   "outputs": [],
   "source": [
    "# 한 대의 로봇을 구현하기 위하여 두 개의 변수 (robot_name, robot_pos)와 하나의 함수 (robot_move())를 생성함\n",
    "\n",
    "robot_name = 'R1' # 로봇 이름\n",
    "robot_pos = 0 # 로봇의 초기 위치\n",
    "\n",
    "def robot_move():\n",
    "    global robot_pos\n",
    "    robot_pos = robot_pos + 1\n",
    "    print(\"{0} position: {1}\".format(robot_name, robot_pos))"
   ]
  },
  {
   "cell_type": "code",
   "execution_count": 61,
   "metadata": {},
   "outputs": [
    {
     "name": "stdout",
     "output_type": "stream",
     "text": [
      "R1 position: 1\n"
     ]
    }
   ],
   "source": [
    "robot_move()"
   ]
  },
  {
   "cell_type": "markdown",
   "metadata": {},
   "source": [
    "로봇의 수: 2"
   ]
  },
  {
   "cell_type": "code",
   "execution_count": 62,
   "metadata": {},
   "outputs": [],
   "source": [
    "robot1_name = 'R1' # 로봇 이름\n",
    "robot1_pos = 0 # 로봇의 초기 위치\n",
    "\n",
    "def robot1_move():\n",
    "    global robot1_pos\n",
    "    robot1_pos = robot1_pos + 1\n",
    "    print(\"{0} position: {1}\".format(robot1_name, robot1_pos))\n",
    "\n",
    "robot2_name = 'R2' # 로봇 이름\n",
    "robot2_pos = 10 # 로봇의 초기 위치\n",
    "\n",
    "def robot2_move():\n",
    "    global robot2_pos\n",
    "    robot2_pos = robot2_pos + 1\n",
    "    print(\"{0} position: {1}\".format(robot2_name, robot2_pos))"
   ]
  },
  {
   "cell_type": "code",
   "execution_count": 63,
   "metadata": {},
   "outputs": [
    {
     "name": "stdout",
     "output_type": "stream",
     "text": [
      "R1 position: 1\n",
      "R2 position: 11\n"
     ]
    }
   ],
   "source": [
    "robot1_move()\n",
    "robot2_move()"
   ]
  },
  {
   "cell_type": "markdown",
   "metadata": {},
   "source": [
    "**클래스와 객체를 이용하여 코드 작성하기**\n",
    "\n",
    "클래스를 선언한 이후 로봇이 필요할 때마다 로봇 객체만 생성하면 되므로 객체가 아무리 늘어나도 변수나 함수를 추가로 구현할 필요가 없음. 코드의 양도 줄고 관리도 편해짐"
   ]
  },
  {
   "cell_type": "code",
   "execution_count": 64,
   "metadata": {},
   "outputs": [],
   "source": [
    "class Robot():\n",
    "    def __init__(self, name, pos): \n",
    "        self.name = name # 로봇 객체의 이름\n",
    "        self.pos = pos # 로봇 객체의 위치\n",
    "       \n",
    "    def move(self):\n",
    "        self.pos = self.pos + 1\n",
    "        print(\"{0} position: {1}\".format(self.name, self.pos))"
   ]
  },
  {
   "cell_type": "code",
   "execution_count": 65,
   "metadata": {},
   "outputs": [],
   "source": [
    "robot1 = Robot('R1', 0)\n",
    "robot2 = Robot('R2', 10)"
   ]
  },
  {
   "cell_type": "code",
   "execution_count": 66,
   "metadata": {},
   "outputs": [
    {
     "name": "stdout",
     "output_type": "stream",
     "text": [
      "R1 position: 1\n",
      "R2 position: 11\n"
     ]
    }
   ],
   "source": [
    "robot1.move()\n",
    "robot2.move()"
   ]
  },
  {
   "cell_type": "code",
   "execution_count": 67,
   "metadata": {},
   "outputs": [
    {
     "name": "stdout",
     "output_type": "stream",
     "text": [
      "R3 position: 31\n",
      "R4 position: 41\n"
     ]
    }
   ],
   "source": [
    "myRobot3 = Robot('R3', 30)\n",
    "myRobot4 = Robot('R4', 40)\n",
    "\n",
    "myRobot3.move()\n",
    "myRobot4.move()"
   ]
  },
  {
   "cell_type": "markdown",
   "metadata": {},
   "source": [
    "# <span style=\"color:blue\"> <U> 클래스 상속 </U> </span>\n",
    "\n",
    "<br>\n",
    "\n",
    "클래스 상속 (class inheritance)\n",
    "\n",
    "* 객체지향 프로그래밍에서 이미 만들어진 클래스의 변수와 함수를 그대로 이어받고 새로운 내용만 추가해서 클래스를 선언하는 경우 이러한 이어받기를 상속이라함 \n",
    "* 상속 관계에 있는 두 클래스는 부모 클래스와 자식 클래스로 구별함\n",
    "* 부모 클래스는 상위 클래스 혹은 슈퍼 클래스로 부름\n",
    "* 자식 클래스는 하위 클래스 혹은 서브 클래스라 부름\n",
    "* 자식 클래스가 부모 클래스로부터 상속을 받으면 자식 클래스는 부모 클래스의 속성 (변수)과 행위 (함수)를 그대로 이용할 수 있고 상속 후에는 자식 클래스만 갖는 속성과 행위를 추가할 수 있음\n",
    "* 클래스에서 상속을 이용하면 이미 만들어진 클래스의 변수와 함수를 그대로 이용할 수 있으므로 코드의 재사용성 (code reusability)이 좋아짐\n",
    "* 유사한 클래스를 여러 개 만들어야 하는 경우 공통 부분은 부모 클래스로 구현하고 자식 클래스는 부모 클래스를 상속받는 하위 클래스로 구현하면 간편한 코드를 작성할 수 있음"
   ]
  },
  {
   "cell_type": "markdown",
   "metadata": {},
   "source": [
    "**부모 클래스로부터 상속받는 자식 클래스를 선언하는 형식**\n",
    "\n",
    "```\n",
    "class 자식 클래스 이름(부모 클래스 이름):\n",
    "      <코드 블록>\n",
    "```\n",
    "\n",
    "* 부모 클래스로부터 상속을 받으려면 클래스를 선언할 때 자식 클래스 이름 다음에 오는 소괄호 안에 부모 클래스의 이름을 넣어야 함. 이 때 부모 클래스는 미리 선언이 되어 있어야 함\n",
    "* 부모 클래스를 상속받은 후에는 자식 클래스에서 부모 클래스의 변수나 함수를 자식 클래스에서 정의한 것처럼 사용할 수 있음\n",
    "* 부모 클래스에서 정의한 함수와 자식 클래스에서 정의한 함수의 이름이 같은 경우 부모 클래스의 함수를 호출하려면 명시적으로 `부모 클래스 이름.함수명()`으로 호출하거나 `super().함수명()`을 사용하여야 함. 초기화함수 `__init__()`에서 많이 이용함"
   ]
  },
  {
   "cell_type": "markdown",
   "metadata": {},
   "source": [
    "**부모 클래스인 자전거 클래스를 상속받아 지식 클래스인 접는 자전거 클래스를 만들기**\n",
    "\n",
    "* 접는 자전거는 일반 자전거의 속성과 동작을 그대로 갖고 있음\n",
    "* 상속받은 후에는 접는 자전거의 속성과 동작만 추가하면 됨"
   ]
  },
  {
   "cell_type": "code",
   "execution_count": 70,
   "metadata": {},
   "outputs": [],
   "source": [
    "# 부모 클래스: 자전거 클래스\n",
    "\n",
    "class Bicycle():\n",
    "    \n",
    "    def __init__(self, wheel_size, color):\n",
    "        self.wheel_size = wheel_size\n",
    "        self.color = color\n",
    "        \n",
    "    def move(self, speed):\n",
    "        print(\"자전거: 시속 {0}킬로미터로 전진\".format(speed))\n",
    "        \n",
    "    def turn(self, direction):\n",
    "        print(\"자전거: {0}회전\".format(direction))\n",
    "        \n",
    "    def stop(self):\n",
    "        print(\"자전거({0}, {1}): 정지 \".format(self.wheel_size, self.color))"
   ]
  },
  {
   "cell_type": "code",
   "execution_count": 71,
   "metadata": {},
   "outputs": [],
   "source": [
    "# 자식자클래스: 접는 자전거\n",
    "\n",
    "class FoldingBicycle(Bicycle):\n",
    "        \n",
    "    def __init__(self, wheel_size, color, state): # FoldingBicycle 초기화\n",
    "        Bicycle.__init__(self, wheel_size, color) # Bicycle의 초기화 재사용\n",
    "        # super().__init__(wheel_size, color) # super()도 사용 가능, 인자에서 self를 빼야 함\n",
    "        self.state = state  # 자식 클래스에서 새로 추가한 변수 \n",
    "        \n",
    "    def fold(self):\n",
    "        self.state = 'folding'\n",
    "        print(\"자전거: 접기, state = {0}\".format(self.state))\n",
    "\n",
    "    def unfold(self):\n",
    "        self.state = 'unfolding'\n",
    "        print(\"자전거: 펴기, state = {0}\".format(self.state))"
   ]
  },
  {
   "cell_type": "markdown",
   "metadata": {},
   "source": [
    "* 자식 클래스인 FoldingBicycle 클래스의 인스턴스인 folding_bicycle 객체를 생성한 후 객체의 메서드를 호출함\n",
    "* 자식 클래스인 FoldingBicycle 클래스에서 move() 함수를 구현하지 않았지만 부모 클래스인 Bicycle 클래스에서 상속받았으므로 자식 클래스인 FoldingBicycle 클래스에서 생성된 객체에서도 부모 클래스인 Bicycle 클래스의 함수를 이용할 수 있음\n",
    "* fold() 함수와 unfold() 함수는 자식 클래스인 FoldingBicycle 클래스에서 추가로 구현하였으므로 folding_bicycle 객체에서 호출할 수 있음"
   ]
  },
  {
   "cell_type": "code",
   "execution_count": 72,
   "metadata": {},
   "outputs": [
    {
     "name": "stdout",
     "output_type": "stream",
     "text": [
      "자전거: 시속 20킬로미터로 전진\n",
      "자전거: 접기, state = folding\n",
      "자전거: 펴기, state = unfolding\n"
     ]
    }
   ],
   "source": [
    "folding_bicycle = FoldingBicycle(27, 'white', 'unfolding') # 객체 생성\n",
    "\n",
    "folding_bicycle.move(20) # 부모 클래스의 함수(메서드) 호출\n",
    "folding_bicycle.fold()   # 자식 클래스에서 정의한 함수 호출\n",
    "folding_bicycle.unfold()"
   ]
  },
  {
   "cell_type": "code",
   "execution_count": null,
   "metadata": {},
   "outputs": [],
   "source": []
  }
 ],
 "metadata": {
  "anaconda-cloud": {},
  "kernelspec": {
   "display_name": "Python 3",
   "language": "python",
   "name": "python3"
  },
  "language_info": {
   "codemirror_mode": {
    "name": "ipython",
    "version": 3
   },
   "file_extension": ".py",
   "mimetype": "text/x-python",
   "name": "python",
   "nbconvert_exporter": "python",
   "pygments_lexer": "ipython3",
   "version": "3.7.6"
  },
  "latex_envs": {
   "LaTeX_envs_menu_present": true,
   "autoclose": false,
   "autocomplete": true,
   "bibliofile": "biblio.bib",
   "cite_by": "apalike",
   "current_citInitial": 1,
   "eqLabelWithNumbers": true,
   "eqNumInitial": 0,
   "hotkeys": {
    "equation": "Ctrl-E",
    "itemize": "Ctrl-I"
   },
   "labels_anchors": false,
   "latex_user_defs": false,
   "report_style_numbering": false,
   "user_envs_cfg": false
  },
  "nav_menu": {},
  "toc": {
   "nav_menu": {
    "height": "142px",
    "width": "252px"
   },
   "number_sections": false,
   "sideBar": true,
   "skip_h1_title": false,
   "toc_cell": false,
   "toc_position": {
    "height": "582px",
    "left": "0px",
    "right": "1128px",
    "top": "111px",
    "width": "238px"
   },
   "toc_section_display": "block",
   "toc_window_display": false
  },
  "toc_position": {
   "height": "552px",
   "left": "0px",
   "right": "1170px",
   "top": "107px",
   "width": "196px"
  }
 },
 "nbformat": 4,
 "nbformat_minor": 2
}
