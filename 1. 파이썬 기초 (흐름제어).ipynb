{
 "cells": [
  {
   "cell_type": "markdown",
   "metadata": {},
   "source": [
    "## 조건에 따라 분기하는 if 문"
   ]
  },
  {
   "cell_type": "code",
   "execution_count": 4,
   "metadata": {},
   "outputs": [
    {
     "name": "stdout",
     "output_type": "stream",
     "text": [
      "How many pounds does your suitcase weigh? 55.5\n",
      "There is a $25 charge for luggage that heavy.\n",
      "Thank you for your business.\n"
     ]
    }
   ],
   "source": [
    "weight = float(input(\"How many pounds does your suitcase weigh? \"))\n",
    "if weight > 50:\n",
    "    print(\"There is a $25 charge for luggage that heavy.\")\n",
    "    print(\"Thank you for your business.\")"
   ]
  },
  {
   "cell_type": "code",
   "execution_count": 13,
   "metadata": {},
   "outputs": [],
   "source": [
    "# balance 잔고  殘高, 잔금  殘金, 잔액  殘額, 차감을 계산하다      \n",
    "# backup account 예비 계정                              \n",
    "backupAccount = 1000; balance = -100"
   ]
  },
  {
   "cell_type": "code",
   "execution_count": 14,
   "metadata": {},
   "outputs": [],
   "source": [
    "if balance < 0:\n",
    "    transfer = -balance\n",
    "    # transfer enough from the backup account:\n",
    "    backupAccount = backupAccount - transfer\n",
    "    balance = balance + transfer"
   ]
  },
  {
   "cell_type": "code",
   "execution_count": 15,
   "metadata": {},
   "outputs": [
    {
     "name": "stdout",
     "output_type": "stream",
     "text": [
      "backupAccount =  900\n",
      "balance =  0\n"
     ]
    }
   ],
   "source": [
    "print(\"backupAccount = \", backupAccount); print(\"balance = \", balance)"
   ]
  },
  {
   "cell_type": "code",
   "execution_count": 16,
   "metadata": {},
   "outputs": [
    {
     "data": {
      "text/plain": [
       "True"
      ]
     },
     "execution_count": 16,
     "metadata": {},
     "output_type": "execute_result"
    }
   ],
   "source": [
    "[1, 2] != [2, 1]"
   ]
  },
  {
   "cell_type": "code",
   "execution_count": 17,
   "metadata": {},
   "outputs": [
    {
     "name": "stdout",
     "output_type": "stream",
     "text": [
      "Enter hours worked: 44\n",
      "Enter dollars paid per hour: 8500\n",
      "Wages for 44.0 hours at $8500.00 per hour are $391000.00.\n"
     ]
    }
   ],
   "source": [
    "def calcWeeklyWages(totalHours, hourlyWage):\n",
    "    '''Return the total weekly wages for a worker working totalHours,\n",
    "    with a given regular hourlyWage.  Include overtime for hours over 40.\n",
    "    '''\n",
    "    if totalHours <= 40:\n",
    "        totalWages = hourlyWage*totalHours\n",
    "    else:\n",
    "        overtime = totalHours - 40\n",
    "        totalWages = hourlyWage*40 + (1.5*hourlyWage)*overtime\n",
    "    return totalWages\n",
    "\n",
    "def main():\n",
    "    hours = float(input('Enter hours worked: '))\n",
    "    wage = float(input('Enter dollars paid per hour: '))\n",
    "    total = calcWeeklyWages(hours, wage)\n",
    "    print('Wages for {hours} hours at ${wage:.2f} per hour are ${total:.2f}.'\n",
    "          .format(**locals()))\n",
    "\n",
    "main()"
   ]
  },
  {
   "cell_type": "markdown",
   "metadata": {},
   "source": [
    "**논리 연산자 우선 순위**\n",
    "\n",
    "and, or, not 논리 연산자가 식 하나에 들어있으면 not, and, or 순으로 판단함"
   ]
  },
  {
   "cell_type": "markdown",
   "metadata": {},
   "source": [
    "**논리 연산자와 비교 연산자를 함께 사용하기**\n",
    "\n",
    "비교 연산자(is, is not, ==, !=, <, >, <=, >=)를 먼저 판단하고 논리 연산자(not, and, or)를 나중에 판단하게 됨"
   ]
  },
  {
   "cell_type": "markdown",
   "metadata": {},
   "source": [
    "**정수, 실수, 문자열을 불 (bool)로 만들기**\n",
    "\n",
    "* 정수, 실수, 문자열을 불로 만들 때는 bool을 사용하면 됨\n",
    "* 정수 1은 True, 0은 False임\n",
    "* 정수 0, 실수 0.0 이외의 모든 숫자는 True임\n",
    "* 문자열의 내용이 'False'라도 불로 만들면 True임\n",
    "* 문자열의내용 자체는 판단하지 않으며 값이 있으면 True임\n",
    "* 빈 문자열 '', \"\"를 제외한 모든 문자열은 True임"
   ]
  },
  {
   "cell_type": "markdown",
   "metadata": {},
   "source": [
    "## if ~else"
   ]
  },
  {
   "cell_type": "code",
   "execution_count": 19,
   "metadata": {},
   "outputs": [
    {
     "name": "stdout",
     "output_type": "stream",
     "text": [
      "Please input an integer: 30\n",
      "30 is an even number.\n"
     ]
    }
   ],
   "source": [
    "a = int(input(\"Please input an integer: \"))\n",
    "if a % 2 == 0:\n",
    "   print(\"{0:0d} is an even number.\".format(a))\n",
    "else:\n",
    "   print(\"{0:0d} is an odd number.\".format(a))"
   ]
  },
  {
   "cell_type": "markdown",
   "metadata": {},
   "source": [
    "## if - elif - else\n",
    "<br>\n",
    "\n",
    "```\n",
    "if <조건문 1>:\n",
    "   <코드 블록 1>\n",
    "elif <조건문 2>:\n",
    "   <코드 블록 2>   \n",
    "...\n",
    "elif <조건문 n>:\n",
    "   <코드 블록 n>  \n",
    "else:\n",
    "   <코드 블록 m>  \n",
    "```   \n",
    "\n",
    "<br>"
   ]
  },
  {
   "cell_type": "code",
   "execution_count": 20,
   "metadata": {},
   "outputs": [
    {
     "name": "stdout",
     "output_type": "stream",
     "text": [
      "middle\n"
     ]
    }
   ],
   "source": [
    "income=100\n",
    "if income < 100:\n",
    "    grade = \"low\"\n",
    "elif income < 200:\n",
    "    grade = \"middle\"\n",
    "else:\n",
    "    grade = \"high\"\n",
    "print(grade)"
   ]
  },
  {
   "cell_type": "markdown",
   "metadata": {},
   "source": [
    "**(예)** \n",
    "\n",
    "**알고리즘 트레이딩**\n",
    "\n",
    "현재가 (price)가 1,000원 미만이면 호가(bid) 가격은 1원, \n",
    "\n",
    "그렇지 않고 현재가가 1,000원 이상이고 5,000원 미만이면 호가 가격단위는 5원, \n",
    "\n",
    "그렇지 않고 현재가가 5,000원 이상이고 10,000원 미만이면 호가 가격단위는 10원, \n",
    "\n",
    "그렇지 않고 현재가가 10,000원 이상이고 50,000원 미만이면 호가 가격단위는 50원, \n",
    "\n",
    "그렇지 않고 현재가가 50,000원 이상이고 100,000원 미만이면 호가 가격단위는 100원,\n",
    "\n",
    "그렇지 않고 현재가가 100,000원 이상이고 500,000원 미만이면 호가 가격단위는 500원, \n",
    "\n",
    "그렇지 않고 현재가가 500,000원 이상이면 호가 가격단위는 1,000원 "
   ]
  },
  {
   "cell_type": "code",
   "execution_count": 21,
   "metadata": {},
   "outputs": [],
   "source": [
    "price = 7000\n",
    "\n",
    "if price<1000:\n",
    "    bid=1\n",
    "elif price>=1000 and price<5000:\n",
    "    bid=5\n",
    "elif price>=5000 and price<10000:\n",
    "    bid=10\n",
    "elif price>=10000 and price<50000:\n",
    "    bid=50\n",
    "elif price>=50000 and price<100000:\n",
    "    bid=100\n",
    "elif price>=100000 and price<500000:\n",
    "    bid=500\n",
    "else:\n",
    "    bid=1000"
   ]
  },
  {
   "cell_type": "code",
   "execution_count": 22,
   "metadata": {},
   "outputs": [
    {
     "name": "stdout",
     "output_type": "stream",
     "text": [
      "10\n"
     ]
    }
   ],
   "source": [
    "print(bid)"
   ]
  },
  {
   "cell_type": "markdown",
   "metadata": {},
   "source": [
    "**NOTE**\n",
    "\n",
    "코드 작성시 우선 전체적인 구조만 먼저 작성하고 나중에 상세한 실행 코드를 작성하고자 할 때 'pass'를 사용하면 편함\n",
    "\n",
    "if 문에서 <조건문>을 작성하고 <코드 블록>에 아무 것도 작성하지 않으면 오류가 발생함. 이때 'pass'를 지정하여 if 문의 전체적인 구조를 우성 작성할 수 있음"
   ]
  },
  {
   "cell_type": "code",
   "execution_count": 23,
   "metadata": {},
   "outputs": [],
   "source": [
    "x =100\n",
    "if x >= 90:\n",
    "    pass\n",
    "else:\n",
    "    pass"
   ]
  },
  {
   "cell_type": "markdown",
   "metadata": {},
   "source": [
    "# 2.3.3 Control Flow 제어문\n",
    "\n",
    "제어문: 코드의 진행 순서를 바꾸는 구문. 제어문을 이용하면 상황에 따라 다르게 코드를 실행할 수 있어 프로그램이 지능이 있는 기기처럼 동작되도록 만들 수 있름\n",
    "\n",
    "* 조건문: 조건을 검사해 분기하는 구문\n",
    "          if 문, if~else 문, if~elif~else 문\n",
    "* 반복문: 어떤 구간이나 조건을 만족하는 동안 코드의 일부분을 반복하는 구문\n",
    "          for 문, while 문"
   ]
  },
  {
   "cell_type": "markdown",
   "metadata": {},
   "source": [
    "# Loops 반복문"
   ]
  },
  {
   "cell_type": "code",
   "execution_count": 25,
   "metadata": {},
   "outputs": [
    {
     "name": "stdout",
     "output_type": "stream",
     "text": [
      "[0, 5, 10, 15]\n",
      "[-10, -8, -6, -4, -2]\n",
      "[3, 0, -3, -6, -9]\n",
      "[]\n"
     ]
    }
   ],
   "source": [
    "print(list(range(0, 20, 5)))    # Line 1\n",
    "print(list(range(-10, 0, 2)))   # Line 2\n",
    "print(list(range(3, -10, -3)))  # Line 3\n",
    "print(list(range(0, -5, 1)))    # Line 4 (빈 리스트를 반환함) (step과 시작끝 방향이 같아야함)"
   ]
  },
  {
   "cell_type": "code",
   "execution_count": 27,
   "metadata": {},
   "outputs": [
    {
     "name": "stdout",
     "output_type": "stream",
     "text": [
      "1 3 5 7 9 11 13 15 17 19 21 23 25 27 29 31 33 35 37 39 41 43 45 47 49 51 53 55 57 59 61 63 65 67 69 71 73 75 77 79 81 83 85 87 89 91 93 95 97 99 \n",
      "2500\n"
     ]
    }
   ],
   "source": [
    "s=0\n",
    "for i in range(1, 100, 2):\n",
    "    print(i, end=' ') #더하기 전에 먼저 i만 프린트\n",
    "    s = s+i\n",
    "print('\\n{}'.format(s)) #홀수 다 더하면 2500 나온다"
   ]
  },
  {
   "cell_type": "code",
   "execution_count": 28,
   "metadata": {},
   "outputs": [
    {
     "name": "stdout",
     "output_type": "stream",
     "text": [
      "There are places I remember all my life\n",
      "\n",
      "\n",
      "T\n",
      "h\n",
      "e\n",
      "r\n",
      "e\n",
      " \n",
      "a\n",
      "r\n",
      "e\n",
      " \n",
      "p\n",
      "l\n",
      "a\n",
      "c\n",
      "e\n",
      "s\n",
      " \n",
      "I\n",
      " \n",
      "r\n",
      "e\n",
      "m\n",
      "e\n",
      "m\n",
      "b\n",
      "e\n",
      "r\n",
      " \n",
      "a\n",
      "l\n",
      "l\n",
      " \n",
      "m\n",
      "y\n",
      " \n",
      "l\n",
      "i\n",
      "f\n",
      "e\n"
     ]
    }
   ],
   "source": [
    "a = 'There are places I remember all my life'\n",
    "print(a)\n",
    "\n",
    "print(\"\\n\")\n",
    "\n",
    "for letter in a:\n",
    "    print(letter)"
   ]
  },
  {
   "cell_type": "code",
   "execution_count": 29,
   "metadata": {},
   "outputs": [
    {
     "name": "stdout",
     "output_type": "stream",
     "text": [
      "There are places I remember all my life\n",
      "\n",
      "\n",
      "T r a   a s   m b   l y i "
     ]
    }
   ],
   "source": [
    "a = 'There are places I remember all my life'\n",
    "print(a)\n",
    "\n",
    "print(\"\\n\")\n",
    "\n",
    "i=0\n",
    "for letter in a:\n",
    "    if i % 3 == 0:\n",
    "        print(letter, end=' ')\n",
    "    i += 1"
   ]
  },
  {
   "cell_type": "markdown",
   "metadata": {},
   "source": [
    "## 중첩 for 문\n",
    "\n",
    "<br>\n",
    "\n",
    "```\n",
    "for <반복 변수 1> in <반복 범위 1>:\n",
    "    for <반복 변수 2> in <반복 범위 2>:\n",
    "        <코드 블록>\n",
    "```\n"
   ]
  },
  {
   "cell_type": "code",
   "execution_count": 30,
   "metadata": {},
   "outputs": [
    {
     "name": "stdout",
     "output_type": "stream",
     "text": [
      "x y\n",
      "x1 y1\n",
      "x1 y2\n",
      "x2 y1\n",
      "x2 y2\n"
     ]
    }
   ],
   "source": [
    "x_list = ['x1', 'x2']\n",
    "y_list = ['y1', 'y2']\n",
    "\n",
    "print(\"x y\")\n",
    "for x in x_list:\n",
    "    for y in y_list:\n",
    "        print(x,y)"
   ]
  },
  {
   "cell_type": "markdown",
   "metadata": {},
   "source": [
    "**zip() 함수**\n",
    "\n",
    "같은 길이의 데이터를 하나로 묶어줌. 여러 개의 리스트, 튜플, 또는 다른 순차형 자료형을 서로 짝지어서 튜플의 리스트를 생성함\n",
    "\n",
    "<br>\n",
    "\n",
    "```\n",
    "for var1, var2 in zip(list1, list2):\n",
    "    <코드 블록>\n",
    "```\n",
    "\n",
    "<br>\n",
    "\n",
    "<반복 범위>인 zip() 함수 안에 있는 list1과 list2의 항목이 각각 순서대로 동시에 <반복 변수>인 var1, var2에 대입되고 <코드 블록>을 수행함"
   ]
  },
  {
   "cell_type": "code",
   "execution_count": 31,
   "metadata": {},
   "outputs": [
    {
     "data": {
      "text/plain": [
       "[(1, 4), (2, 5), (3, 6)]"
      ]
     },
     "execution_count": 31,
     "metadata": {},
     "output_type": "execute_result"
    }
   ],
   "source": [
    "x = [1, 2, 3]\n",
    "y = [4, 5, 6]\n",
    "zipped = zip(x, y)  ##듀플로 생성한다.\n",
    "list(zipped) "
   ]
  },
  {
   "cell_type": "code",
   "execution_count": 34,
   "metadata": {},
   "outputs": [
    {
     "name": "stdout",
     "output_type": "stream",
     "text": [
      "(1, 4) (2, 5) (3, 6)\n"
     ]
    }
   ],
   "source": [
    "# *: unzip\n",
    "print(*zip(x,y))"
   ]
  },
  {
   "cell_type": "code",
   "execution_count": 36,
   "metadata": {},
   "outputs": [
    {
     "name": "stdout",
     "output_type": "stream",
     "text": [
      "(1, 2, 3)\n"
     ]
    }
   ],
   "source": [
    "x2, y2 = zip(*zip(x, y))\n",
    "print(x2)"
   ]
  },
  {
   "cell_type": "code",
   "execution_count": 39,
   "metadata": {},
   "outputs": [
    {
     "name": "stdout",
     "output_type": "stream",
     "text": [
      "(4, 5, 6)\n"
     ]
    }
   ],
   "source": [
    "print(y2)"
   ]
  },
  {
   "cell_type": "markdown",
   "metadata": {},
   "source": [
    "If you’re working with sequences like lists, tuples, or strings, then your iterables are guaranteed to be evaluated from left to right. This means that the resulting list of tuples will take the form [(numbers[0], letters[0]), (numbers[1], letters[1]),..., (numbers[n], letters[n])]. However, for other types of iterables (like sets), you might see some weird results:"
   ]
  },
  {
   "cell_type": "code",
   "execution_count": 45,
   "metadata": {},
   "outputs": [
    {
     "data": {
      "text/plain": [
       "[(1, 'c'), (2, 'b'), (3, 'a')]"
      ]
     },
     "execution_count": 45,
     "metadata": {},
     "output_type": "execute_result"
    }
   ],
   "source": [
    "s1 = {2, 3, 1} ##SET에서 ZIP은 정렬됨 LISTS,TUPLES,STINGS는 보이는대로 합쳐짐\n",
    "s2 = {'b', 'a', 'c'}\n",
    "list(zip(s1, s2))"
   ]
  },
  {
   "cell_type": "code",
   "execution_count": 46,
   "metadata": {},
   "outputs": [
    {
     "data": {
      "text/plain": [
       "[(0, 0), (1, 1), (2, 2), (3, 3), (4, 4)]"
      ]
     },
     "execution_count": 46,
     "metadata": {},
     "output_type": "execute_result"
    }
   ],
   "source": [
    "list(zip(range(5), range(100)))  #남는건 무시함"
   ]
  },
  {
   "cell_type": "code",
   "execution_count": 47,
   "metadata": {},
   "outputs": [
    {
     "name": "stdout",
     "output_type": "stream",
     "text": [
      "Letter: a\n",
      "Number: 0\n",
      "Operator: *\n",
      "Letter: b\n",
      "Number: 1\n",
      "Operator: /\n",
      "Letter: c\n",
      "Number: 2\n",
      "Operator: +\n"
     ]
    }
   ],
   "source": [
    "letters = ['a', 'b', 'c']\n",
    "numbers = [0, 1, 2]\n",
    "operators = ['*', '/', '+']\n",
    "for l, n, o in zip(letters, numbers, operators):\n",
    "    print(f'Letter: {l}')\n",
    "    print(f'Number: {n}')\n",
    "    print(f'Operator: {o}')"
   ]
  },
  {
   "cell_type": "code",
   "execution_count": 48,
   "metadata": {},
   "outputs": [
    {
     "name": "stdout",
     "output_type": "stream",
     "text": [
      "[(1, 'a'), (2, 'b'), (3, 'c'), (4, 'd')]\n",
      "(1, 2, 3, 4)\n",
      "('a', 'b', 'c', 'd')\n"
     ]
    }
   ],
   "source": [
    "pairs = [(1, 'a'), (2, 'b'), (3, 'c'), (4, 'd')]\n",
    "print(pairs)\n",
    "\n",
    "numbers, letters = zip(*pairs)\n",
    "print(numbers)\n",
    "print(letters)"
   ]
  },
  {
   "cell_type": "markdown",
   "metadata": {},
   "source": [
    "### while 문의 구조\n",
    "\n",
    "<br>\n",
    "```\n",
    "while <조건문>:\n",
    "    <코드 블록>\n",
    "```\n",
    "<br>\n",
    "\n",
    "* while 문에서 <조건문>을 만족하면 <코드 블록>을 계속 수행하고 <조건문>을 만족하지 않으면 <코드 블록>을 실행하지 않고 while 문을 빠져나오게 됨"
   ]
  },
  {
   "cell_type": "code",
   "execution_count": 49,
   "metadata": {},
   "outputs": [
    {
     "name": "stdout",
     "output_type": "stream",
     "text": [
      "i sum\n",
      "1 1\n",
      "2 3\n",
      "3 6\n",
      "4 10\n",
      "5 15\n",
      "6 21\n"
     ]
    }
   ],
   "source": [
    "i = 0     # 초기화\n",
    "sum = 0   # 초기화\n",
    "\n",
    "print(\"i sum\")\n",
    "while (sum < 20):  # 조건 검사\n",
    "    i = i + 1      # i를 1씩 증가\n",
    "    sum = sum + i  # 이전의 sum과 현재 i를 더해서 sum을 갱신\n",
    "    print(i, sum)  # i와 sum을 출력"
   ]
  },
  {
   "cell_type": "code",
   "execution_count": 50,
   "metadata": {},
   "outputs": [
    {
     "name": "stdout",
     "output_type": "stream",
     "text": [
      "value's index > 10 is n\n",
      "value's index > 10 is g\n",
      "exit index =  12\n"
     ]
    }
   ],
   "source": [
    "# range 함수를 이용한 for\n",
    "str_10 = \"gil dong hong\"\n",
    "\n",
    "index = 0\n",
    "for index in range(len(str_10)):\n",
    "    value = str_10[index]\n",
    "    if index > 10:\n",
    "        print(\"value\\'s index > 10 is\", value)\n",
    "print('exit index = ', index) # exit index =  12"
   ]
  },
  {
   "cell_type": "code",
   "execution_count": 51,
   "metadata": {},
   "outputs": [
    {
     "data": {
      "text/plain": [
       "[0, 1, 2, 3, 4, 5, 6, 7, 8, 9, 10, 11, 12]"
      ]
     },
     "execution_count": 51,
     "metadata": {},
     "output_type": "execute_result"
    }
   ],
   "source": [
    "# enumerate 함수를 이용한 값과 위치 찾아오기\n",
    "[a for a, b in enumerate(str_10)] # [0, 1, 2, 3, 4, 5, 6, 7, 8, 9, 10, 11, 12]"
   ]
  },
  {
   "cell_type": "code",
   "execution_count": 52,
   "metadata": {},
   "outputs": [
    {
     "data": {
      "text/plain": [
       "['g', 'i', 'l', ' ', 'd', 'o', 'n', 'g', ' ', 'h', 'o', 'n', 'g']"
      ]
     },
     "execution_count": 52,
     "metadata": {},
     "output_type": "execute_result"
    }
   ],
   "source": [
    "[b for a, b in enumerate(str_10)] # ['g', 'i', 'l', ' ', 'd', 'o', 'n', 'g', ' ', 'h', 'o', 'n', 'g']"
   ]
  },
  {
   "cell_type": "code",
   "execution_count": 56,
   "metadata": {},
   "outputs": [
    {
     "name": "stdout",
     "output_type": "stream",
     "text": [
      "10,20,\n",
      "30,40,\n",
      "50,60,\n"
     ]
    }
   ],
   "source": [
    "a = [[10, 20], [30, 40], [50, 60]]\n",
    " \n",
    "for i in a:        # a에서 안쪽 리스트를 꺼냄\n",
    "    for j in i:    # 안쪽 리스트에서 요소를 하나씩 꺼냄\n",
    "        print(j,end=',') #end 한 반복문안에서 결과 뒤에 쓸것\n",
    "    print()"
   ]
  },
  {
   "cell_type": "code",
   "execution_count": 57,
   "metadata": {},
   "outputs": [
    {
     "name": "stdout",
     "output_type": "stream",
     "text": [
      "10 20 \n",
      "30 40 \n",
      "50 60 \n"
     ]
    }
   ],
   "source": [
    "a = [[10, 20], [30, 40], [50, 60]]\n",
    " \n",
    "for i in range(len(a)):            # 세로 크기\n",
    "    for j in range(len(a[i])):     # 가로 크기\n",
    "        print(a[i][j], end=' ')\n",
    "    print()"
   ]
  },
  {
   "cell_type": "code",
   "execution_count": 58,
   "metadata": {},
   "outputs": [
    {
     "name": "stdout",
     "output_type": "stream",
     "text": [
      "10 20\n",
      "30 40\n",
      "50 60\n"
     ]
    }
   ],
   "source": [
    "a = [[10, 20], [30, 40], [50, 60]]\n",
    " \n",
    "i = 0\n",
    "while i < len(a):    # 반복할 때 리스트의 크기 활용(세로 크기)\n",
    "    x, y = a[i]      # 요소 두 개를 한꺼번에 가져오기\n",
    "    print(x, y)\n",
    "    i += 1           # 인덱스를 1 증가시킴"
   ]
  },
  {
   "cell_type": "code",
   "execution_count": 59,
   "metadata": {},
   "outputs": [
    {
     "name": "stdout",
     "output_type": "stream",
     "text": [
      "10 20 \n",
      "30 40 \n",
      "50 60 \n"
     ]
    }
   ],
   "source": [
    "a = [[10, 20], [30, 40], [50, 60]]\n",
    " \n",
    "i = 0\n",
    "while i < len(a):           # 세로 크기\n",
    "    j = 0\n",
    "    while j < len(a[i]):    # 가로 크기\n",
    "        print(a[i][j], end=' ')\n",
    "        j += 1              # 가로 인덱스를 1 증가시킴\n",
    "    print()\n",
    "    i += 1                  # 세로 인덱스를 1 증가시킴    "
   ]
  },
  {
   "cell_type": "markdown",
   "metadata": {},
   "source": [
    "### 반복문을 빠져나오는 break\n",
    "\n",
    "반복문이 수행되고 있는 동안에 특정 조건을 만족하는 경우 반복을 멈추고 <코드 블록>을 빠져나옴"
   ]
  },
  {
   "cell_type": "code",
   "execution_count": 60,
   "metadata": {},
   "outputs": [
    {
     "name": "stdout",
     "output_type": "stream",
     "text": [
      "[1, 2, 0, 4, 6, 5, 2, 1]\n"
     ]
    },
    {
     "data": {
      "text/plain": [
       "13"
      ]
     },
     "execution_count": 60,
     "metadata": {},
     "output_type": "execute_result"
    }
   ],
   "source": [
    "sequence = [1, 2, 0, 4, 6, 5, 2, 1]\n",
    "print(sequence)\n",
    "\n",
    "total_until_5 = 0\n",
    "for value in sequence:\n",
    "    if value == 5:\n",
    "        break\n",
    "    total_until_5 += value\n",
    "    \n",
    "total_until_5    "
   ]
  },
  {
   "cell_type": "markdown",
   "metadata": {},
   "source": [
    "### 다음 반복을 실행하는 continue\n",
    "\n",
    "반복문 안에서 continue를 만나면 반복문의 처음으로 돌아가서 다음 반복을 진행함\n",
    "\n",
    "continue가 나온 이후 블록의 내용을 무시한다."
   ]
  },
  {
   "cell_type": "code",
   "execution_count": null,
   "metadata": {},
   "outputs": [],
   "source": [
    "for 문에서 `continue` 예약어를 사용해서 블럭의 남은 부분을 건너뛰고 다음 반복을 진행할 수 있음\n",
    "\n",
    "`None` 값은 건너뛰고 리스트에 있는 모든 정수를 더하는 다음 코드를 살펴보자."
   ]
  },
  {
   "cell_type": "code",
   "execution_count": null,
   "metadata": {},
   "outputs": [],
   "source": [
    "sequence = [1, 2, None, 4, None, 5]\n",
    "print(sequence)\n",
    "\n",
    "total = 0\n",
    "for value in sequence:\n",
    "    if value is None:\n",
    "        continue\n",
    "    total += value\n",
    "total"
   ]
  },
  {
   "cell_type": "code",
   "execution_count": 62,
   "metadata": {},
   "outputs": [
    {
     "name": "stdout",
     "output_type": "stream",
     "text": [
      "1\n",
      "continue next\n",
      "3\n",
      "4\n"
     ]
    }
   ],
   "source": [
    "k = 0\n",
    "while True:\n",
    "    k = k + 1\n",
    "    \n",
    "    if(k == 2):\n",
    "        print(\"continue next\")\n",
    "        continue #print(k)를 뛰어넘어라\n",
    "    if(k > 4):\n",
    "        break\n",
    "        \n",
    "    print(k)"
   ]
  },
  {
   "cell_type": "markdown",
   "metadata": {},
   "source": [
    "### 조건문을 포함한 리스트 컴프리헨션\n",
    "\n",
    "<br>\n",
    "\n",
    "```\n",
    "[<반복 실행문> for <반복 변수> in <반복 범위> if <조건문>]\n",
    "```"
   ]
  },
  {
   "cell_type": "code",
   "execution_count": 64,
   "metadata": {},
   "outputs": [
    {
     "name": "stdout",
     "output_type": "stream",
     "text": [
      "[9, 16, 25]\n"
     ]
    }
   ],
   "source": [
    "numbers = [1,2,3,4,5]\n",
    "square = []\n",
    "\n",
    "for i in numbers:\n",
    "    if i >= 3:\n",
    "        square.append(i**2)\n",
    "    \n",
    "print(square)"
   ]
  },
  {
   "cell_type": "code",
   "execution_count": 65,
   "metadata": {},
   "outputs": [
    {
     "data": {
      "text/plain": [
       "[9, 16, 25]"
      ]
     },
     "execution_count": 65,
     "metadata": {},
     "output_type": "execute_result"
    }
   ],
   "source": [
    "[i**2 for i in numbers if i>=3]"
   ]
  },
  {
   "cell_type": "markdown",
   "metadata": {},
   "source": [
    "## pass (83p)\n",
    "\n",
    "`pass` is the “no-op” statement in Python. It can be used in blocks where no action is to be taken (or as a placeholder for code not yet implemented); it is only required because Python uses whitespace to delimit blocks:\n",
    "\n",
    "파이썬에서 `pass`는 아무 것도 하지 않음을 나타냄. 이는 블록 내에서 어떤 작업도 실행하지 않을 때 사용함 (또는 아직 구현하지 않은 코드를 나중에 추가하기 위한 플레이스홀더 (placeholder) 용도로 사용함). `pass`를 사용하는 이유는 파이썬이 공백 문자 (whitespace)를 블록을 구분하는 데 사용하기 때문임"
   ]
  },
  {
   "cell_type": "code",
   "execution_count": 66,
   "metadata": {},
   "outputs": [],
   "source": [
    "x = 0\n",
    "\n",
    "if x < 0:\n",
    "    print('negative!')\n",
    "elif x == 0:\n",
    "    # TODO: put something smart here\n",
    "    pass\n",
    "else:\n",
    "    print('positive!')"
   ]
  },
  {
   "cell_type": "markdown",
   "metadata": {},
   "source": [
    "## Ternary expressions 삼항 표현식 (84p)\n",
    "\n",
    "A ternary expression in Python allows you to combine an if-else block that produces a value into a single line or expression. The syntax for this in Python is:\n",
    "\n",
    "파이썬의 **삼항 표현식 (ternary expression)**은 if-else 블록을 한 줄로 표현할수  있게  해줌\n",
    "\n",
    "<br>\n",
    "\n",
    "```\n",
    "value = true-expr if condition else false-expr\n",
    "```\n",
    "\n",
    "<br>\n",
    "\n",
    "Here, `true-expr` and `false-expr` can be any Python expressions. It has the identical effect as the more verbose:\n",
    "\n",
    "여기서, `true-expr`과 `false-expr`은 어떤 파이썬 표현식이라도 상관없음. 삼항 표현식은 아래 코드와 동일하게 작동함\n",
    "\n",
    "<br>\n",
    "\n",
    "```\n",
    "if condition:\n",
    "    value = true-expr\n",
    "else:\n",
    "    value = false-expr\n",
    "```\n",
    "<br>\n",
    "\n",
    "This is a more concrete example:"
   ]
  },
  {
   "cell_type": "code",
   "execution_count": 68,
   "metadata": {},
   "outputs": [
    {
     "name": "stdout",
     "output_type": "stream",
     "text": [
      "5\n"
     ]
    },
    {
     "data": {
      "text/plain": [
       "'Non-negative'"
      ]
     },
     "execution_count": 68,
     "metadata": {},
     "output_type": "execute_result"
    }
   ],
   "source": [
    "x = 5\n",
    "print(x)\n",
    "\n",
    "'Non-negative' if x >= 0 else 'Negative'"
   ]
  }
 ],
 "metadata": {
  "kernelspec": {
   "display_name": "Python 3",
   "language": "python",
   "name": "python3"
  },
  "language_info": {
   "codemirror_mode": {
    "name": "ipython",
    "version": 3
   },
   "file_extension": ".py",
   "mimetype": "text/x-python",
   "name": "python",
   "nbconvert_exporter": "python",
   "pygments_lexer": "ipython3",
   "version": "3.7.6"
  }
 },
 "nbformat": 4,
 "nbformat_minor": 4
}
