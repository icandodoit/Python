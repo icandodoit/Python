{
 "cells": [
  {
   "cell_type": "code",
   "execution_count": 1,
   "metadata": {},
   "outputs": [],
   "source": [
    "import numpy as np\n",
    "import scipy as sp\n",
    "from scipy import stats\n",
    "from statsmodels.distributions.empirical_distribution import ECDF\n",
    "import pandas as pd\n",
    "import matplotlib.pyplot as plt\n",
    "%matplotlib inline\n",
    "import seaborn as sns\n",
    "\n",
    "from IPython.display import Image"
   ]
  },
  {
   "cell_type": "markdown",
   "metadata": {},
   "source": [
    "# Bernoulli Distribution 베르누이분포"
   ]
  },
  {
   "cell_type": "code",
   "execution_count": 2,
   "metadata": {},
   "outputs": [],
   "source": [
    "from scipy.stats import bernoulli"
   ]
  },
  {
   "cell_type": "code",
   "execution_count": 3,
   "metadata": {},
   "outputs": [],
   "source": [
    "# 1개의 동전 던지기에서 숫자면의 개수\n",
    "p = 0.5\n",
    "mean, var, skew, kurt = bernoulli.stats(p, moments='mvsk')"
   ]
  },
  {
   "cell_type": "code",
   "execution_count": 4,
   "metadata": {},
   "outputs": [
    {
     "name": "stdout",
     "output_type": "stream",
     "text": [
      "0.5 0.25 0.0 -2.0\n"
     ]
    }
   ],
   "source": [
    "print(mean, var, skew, kurt)"
   ]
  },
  {
   "cell_type": "code",
   "execution_count": 5,
   "metadata": {},
   "outputs": [
    {
     "data": {
      "image/png": "[encoded data removed]",
      "text/plain": [
       "<Figure size 432x288 with 1 Axes>"
      ]
     },
     "metadata": {
      "needs_background": "light"
     },
     "output_type": "display_data"
    }
   ],
   "source": [
    "fig, ax = plt.subplots(1, 1)\n",
    "x = np.linspace(0, 1, 2)\n",
    "ax.plot(x, bernoulli.pmf(x, p), 'bo', ms=8, label='bernoulli pmf')\n",
    "ax.vlines(x, 0, bernoulli.pmf(x, p), colors='b', lw=5, alpha=0.5)\n",
    "rv = bernoulli(p)\n",
    "ax.vlines(x, 0, rv.pmf(x), colors='k', linestyles='-', lw=1,\n",
    "         label='frozen pmf')\n",
    "ax.legend(loc='best', frameon=False)\n",
    "plt.show()"
   ]
  },
  {
   "cell_type": "code",
   "execution_count": 26,
   "metadata": {},
   "outputs": [
    {
     "data": {
      "text/plain": [
       "0.0"
      ]
     },
     "execution_count": 26,
     "metadata": {},
     "output_type": "execute_result"
    }
   ],
   "source": [
    "bernoulli.ppf(0.01, p)"
   ]
  },
  {
   "cell_type": "code",
   "execution_count": 27,
   "metadata": {},
   "outputs": [
    {
     "data": {
      "text/plain": [
       "1.0"
      ]
     },
     "execution_count": 27,
     "metadata": {},
     "output_type": "execute_result"
    }
   ],
   "source": [
    "bernoulli.ppf(0.99, p)"
   ]
  },
  {
   "cell_type": "code",
   "execution_count": 28,
   "metadata": {},
   "outputs": [
    {
     "data": {
      "text/plain": [
       "0.5"
      ]
     },
     "execution_count": 28,
     "metadata": {},
     "output_type": "execute_result"
    }
   ],
   "source": [
    "bernoulli.pmf(0, p)"
   ]
  },
  {
   "cell_type": "code",
   "execution_count": 29,
   "metadata": {},
   "outputs": [
    {
     "data": {
      "text/plain": [
       "0.5"
      ]
     },
     "execution_count": 29,
     "metadata": {},
     "output_type": "execute_result"
    }
   ],
   "source": [
    "bernoulli.pmf(1, p)"
   ]
  },
  {
   "cell_type": "markdown",
   "metadata": {},
   "source": [
    "# Binomial Distribution"
   ]
  },
  {
   "cell_type": "code",
   "execution_count": 7,
   "metadata": {},
   "outputs": [],
   "source": [
    "from scipy.stats import binom"
   ]
  },
  {
   "cell_type": "code",
   "execution_count": 8,
   "metadata": {},
   "outputs": [],
   "source": [
    "# 5개의 동전 던지기에서 숫자면의 수\n",
    "n, p = 5, 0.5\n",
    "mean, var, skew, kurt = binom.stats(n, p, moments='mvsk')"
   ]
  },
  {
   "cell_type": "code",
   "execution_count": 9,
   "metadata": {},
   "outputs": [
    {
     "data": {
      "text/plain": [
       "<matplotlib.collections.LineCollection at 0x27b77e04388>"
      ]
     },
     "execution_count": 9,
     "metadata": {},
     "output_type": "execute_result"
    },
    {
     "data": {
      "image/png": "[encoded data removed]",
      "text/plain": [
       "<Figure size 432x288 with 1 Axes>"
      ]
     },
     "metadata": {
      "needs_background": "light"
     },
     "output_type": "display_data"
    }
   ],
   "source": [
    "fig, ax = plt.subplots(1, 1)\n",
    "x = np.linspace(0, 5, 6)\n",
    "ax.plot(x, binom.pmf(x, n, p), 'bo', ms=8, label='binom pmf')\n",
    "ax.vlines(x, 0, binom.pmf(x, n, p), colors='b', lw=5, alpha=0.5)"
   ]
  },
  {
   "cell_type": "markdown",
   "metadata": {},
   "source": [
    "# Poisson Distribution"
   ]
  },
  {
   "cell_type": "code",
   "execution_count": 10,
   "metadata": {},
   "outputs": [],
   "source": [
    "from scipy.stats import poisson"
   ]
  },
  {
   "cell_type": "code",
   "execution_count": 12,
   "metadata": {},
   "outputs": [
    {
     "name": "stdout",
     "output_type": "stream",
     "text": [
      "포아송난수    도수\n",
      "row_0      \n",
      "0      3693\n",
      "1      3668\n",
      "2      1833\n",
      "3       629\n",
      "4       138\n",
      "5        30\n",
      "6         8\n",
      "7         1\n"
     ]
    }
   ],
   "source": [
    "mu = 1\n",
    "r = poisson.rvs(mu, size=10000)\n",
    "table_poisson_mu_1 = pd.crosstab(index = r, colnames = [\"포아송난수\"], columns = \"도수\")\n",
    "print(table_poisson_mu_1)"
   ]
  },
  {
   "cell_type": "markdown",
   "metadata": {},
   "source": [
    "### ecdf (Empirical Cumulative Distribution Function) 누적"
   ]
  },
  {
   "cell_type": "code",
   "execution_count": 14,
   "metadata": {},
   "outputs": [
    {
     "data": {
      "image/png": "[encoded data removed]",
      "text/plain": [
       "<Figure size 432x288 with 1 Axes>"
      ]
     },
     "metadata": {
      "needs_background": "light"
     },
     "output_type": "display_data"
    }
   ],
   "source": [
    "# example of a bimodal data sample\n",
    "from matplotlib import pyplot\n",
    "from numpy.random import normal\n",
    "from numpy import hstack\n",
    "# generate a sample\n",
    "sample1 = normal(loc=20, scale=5, size=300)\n",
    "sample2 = normal(loc=40, scale=5, size=700)\n",
    "sample = hstack((sample1, sample2))\n",
    "# plot the histogram\n",
    "pyplot.hist(sample, bins=50)\n",
    "pyplot.show()"
   ]
  },
  {
   "cell_type": "code",
   "execution_count": 16,
   "metadata": {},
   "outputs": [],
   "source": [
    "# fit a ecdf\n",
    "ecdf = ECDF(sample)"
   ]
  },
  {
   "cell_type": "code",
   "execution_count": 17,
   "metadata": {},
   "outputs": [
    {
     "name": "stdout",
     "output_type": "stream",
     "text": [
      "P(x<20): 0.144\n",
      "P(x<40): 0.647\n",
      "P(x<60): 1.000\n"
     ]
    }
   ],
   "source": [
    "# get cumulative probability for values\n",
    "print('P(x<20): %.3f' % ecdf(20))\n",
    "print('P(x<40): %.3f' % ecdf(40))\n",
    "print('P(x<60): %.3f' % ecdf(60))"
   ]
  },
  {
   "cell_type": "code",
   "execution_count": 21,
   "metadata": {},
   "outputs": [
    {
     "ename": "AttributeError",
     "evalue": "module 'scipy' has no attribute 'pmf'",
     "output_type": "error",
     "traceback": [
      "\u001b[1;31m---------------------------------------------------------------------------\u001b[0m",
      "\u001b[1;31mAttributeError\u001b[0m                            Traceback (most recent call last)",
      "\u001b[1;32m<ipython-input-21-f8835c21fcd9>\u001b[0m in \u001b[0;36m<module>\u001b[1;34m\u001b[0m\n\u001b[1;32m----> 1\u001b[1;33m \u001b[0msp\u001b[0m\u001b[1;33m.\u001b[0m\u001b[0mpmf\u001b[0m\u001b[1;33m(\u001b[0m\u001b[0msample\u001b[0m\u001b[1;33m,\u001b[0m\u001b[1;36m60\u001b[0m\u001b[1;33m)\u001b[0m\u001b[1;33m\u001b[0m\u001b[1;33m\u001b[0m\u001b[0m\n\u001b[0m",
      "\u001b[1;31mAttributeError\u001b[0m: module 'scipy' has no attribute 'pmf'"
     ]
    }
   ],
   "source": [
    "sp.pmf(sample,60)"
   ]
  },
  {
   "cell_type": "code",
   "execution_count": 22,
   "metadata": {},
   "outputs": [
    {
     "name": "stdout",
     "output_type": "stream",
     "text": [
      "[ 3.24655081e+00  3.54081775e-01 -1.83576993e-01  2.92949252e+00\n",
      "  1.06681399e+00  2.94024210e-03  1.81532983e+00 -3.40936814e-01\n",
      "  2.91063691e+00  1.70958340e+00  2.12934689e+00 -1.39547966e-01\n",
      "  1.30905538e+00  4.05533245e-01 -9.13333436e-02  1.36670218e+00\n",
      "  6.12322286e-01 -6.37015924e-01  2.72597760e+00  1.78509000e+00\n",
      "  1.63339699e-01  1.48617172e+00  1.81939213e+00  2.55697790e+00\n",
      "  1.48367767e+00 -8.32650506e-01 -8.35563443e-02 -3.32366210e-01\n",
      "  1.44165047e+00  3.09385567e+00 -4.32218705e-01  1.98824110e+00\n",
      "  7.02519193e-01  7.05422900e-01 -1.99973135e-01  8.57317937e-01\n",
      " -7.46777191e-01  5.62373955e-01 -2.05166263e-01  3.89933590e-01\n",
      "  7.96547101e-01  1.08531001e+00  2.85372594e+00  3.85172716e-01\n",
      "  1.09115138e+00  1.36702741e+00  1.33728978e+00 -1.40357465e+00\n",
      " -8.46486793e-03  6.47816351e-01  1.59803017e+00  1.57302660e+00\n",
      "  1.21565208e+00  5.63780336e-01  1.20902803e+00  1.40601726e+00\n",
      "  8.87667027e-01  1.34113861e+00 -4.35777021e-01  1.71924928e+00\n",
      "  2.02244615e+00  2.46363313e+00  2.37524998e+00 -8.85276508e-01\n",
      "  1.37914048e+00  1.42718275e+00  2.67154881e+00  1.93347843e+00\n",
      "  1.35178012e-02  8.78776755e-01  8.78215179e-01 -3.03515517e-01\n",
      "  1.16741797e+00  1.37942787e+00  2.52844416e+00  1.57910145e+00\n",
      "  4.87915092e-01  1.32929869e+00  2.76167203e+00  6.08573812e-01\n",
      "  8.46441761e-01  2.34589277e-01 -9.83057908e-01  9.82095060e-01\n",
      "  2.27909568e-01 -1.79185718e-02  2.72192685e+00  1.39987885e-01\n",
      "  1.44153577e+00  1.60457236e+00  2.63541510e+00  1.62387837e+00\n",
      "  6.50153955e-01  1.09712783e+00  9.82995090e-01  2.17430653e+00\n",
      " -1.47176458e+00  1.26862806e+00  9.64776100e-01  3.85789966e-01]\n"
     ]
    },
    {
     "data": {
      "text/plain": [
       "KstestResult(statistic=0.3930693698027639, pvalue=9.773534889196286e-15)"
      ]
     },
     "execution_count": 22,
     "metadata": {},
     "output_type": "execute_result"
    }
   ],
   "source": [
    "np.random.seed(987654321)\n",
    "x = stats.norm.rvs(loc=1, size=100)\n",
    "print(x)\n",
    "stats.kstest(x,'norm', alternative = 'less')"
   ]
  },
  {
   "cell_type": "code",
   "execution_count": 25,
   "metadata": {},
   "outputs": [
    {
     "data": {
      "text/plain": [
       "(0.9879568219184875, 0.5050297379493713)"
      ]
     },
     "execution_count": 25,
     "metadata": {},
     "output_type": "execute_result"
    }
   ],
   "source": [
    "stats.shapiro(x)"
   ]
  },
  {
   "cell_type": "code",
   "execution_count": null,
   "metadata": {},
   "outputs": [],
   "source": []
  },
  {
   "cell_type": "code",
   "execution_count": null,
   "metadata": {},
   "outputs": [],
   "source": []
  },
  {
   "cell_type": "code",
   "execution_count": null,
   "metadata": {},
   "outputs": [],
   "source": []
  }
 ],
 "metadata": {
  "kernelspec": {
   "display_name": "Python 3",
   "language": "python",
   "name": "python3"
  },
  "language_info": {
   "codemirror_mode": {
    "name": "ipython",
    "version": 3
   },
   "file_extension": ".py",
   "mimetype": "text/x-python",
   "name": "python",
   "nbconvert_exporter": "python",
   "pygments_lexer": "ipython3",
   "version": "3.7.6"
  }
 },
 "nbformat": 4,
 "nbformat_minor": 4
}
